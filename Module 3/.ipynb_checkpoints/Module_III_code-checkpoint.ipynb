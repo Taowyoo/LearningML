{
 "cells": [
  {
   "cell_type": "markdown",
   "metadata": {},
   "source": [
    "Contents:\n",
    "\n",
    "1. Module Imports\n",
    "2. Reading Data into the Notebook\n",
    "3. Train - Valid - Test split\n",
    "4. Data Pre-processing\n",
    "5. Hyperparameter tuning\n",
    "6. Evaluating test set accuracy with the trained model\n"
   ]
  },
  {
   "cell_type": "code",
   "execution_count": 61,
   "metadata": {},
   "outputs": [],
   "source": [
    "'''Import all necessary packages...pandas for data munging, \n",
    "sklearn's data preprocessing module, seaborn for data visualization\n",
    "%matplotlib for making any plots show up inside of this notebook.\n",
    "joblib for saving models (serialize/deserialize module). We will discuss\n",
    "each of these packages as we use them for our analysis'''\n",
    "\n",
    "import pandas as pd\n",
    "from pandas.api.types import is_string_dtype,is_numeric_dtype\n",
    "from sklearn import preprocessing\n",
    "from sklearn.neighbors import KNeighborsClassifier  # K-nearest neighbor algorithm\n",
    "from sklearn.metrics import confusion_matrix,accuracy_score,matthews_corrcoef,f1_score  # use to measure how good the model is\n",
    "# from sklearn.externals import joblib  # for save trained model\n",
    "import joblib \n",
    "\n",
    "# two library for make visualization\n",
    "from matplotlib import pyplot as plt \n",
    "import seaborn as sns\n",
    "\n",
    "%matplotlib inline"
   ]
  },
  {
   "cell_type": "code",
   "execution_count": 62,
   "metadata": {},
   "outputs": [
    {
     "data": {
      "text/plain": [
       "'C:\\\\Users\\\\yuxiang\\\\OneDrive\\\\出国\\\\Study\\\\INFO6105\\\\LearningML\\\\Module 3'"
      ]
     },
     "execution_count": 62,
     "metadata": {},
     "output_type": "execute_result"
    }
   ],
   "source": [
    "#Check the path to the directory where you are currently in\n",
    "%pwd"
   ]
  },
  {
   "cell_type": "code",
   "execution_count": 63,
   "metadata": {},
   "outputs": [],
   "source": [
    "'''Define a variable that points to this. This will let you avoid typing\n",
    "the long path everytime you need to use it'''\n",
    "\n",
    "my_path = 'c:\\\\Users\\\\yuxiang\\\\OneDrive\\\\出国\\\\Study\\\\INFO6105\\\\LearningML\\\\Module 3'"
   ]
  },
  {
   "cell_type": "markdown",
   "metadata": {},
   "source": [
    "# II. Reading data into the notebook"
   ]
  },
  {
   "cell_type": "code",
   "execution_count": 64,
   "metadata": {
    "tags": []
   },
   "outputs": [
    {
     "name": "stdout",
     "output_type": "stream",
     "text": [
      "(1309, 12)\n"
     ]
    },
    {
     "data": {
      "text/html": [
       "<div>\n",
       "<style scoped>\n",
       "    .dataframe tbody tr th:only-of-type {\n",
       "        vertical-align: middle;\n",
       "    }\n",
       "\n",
       "    .dataframe tbody tr th {\n",
       "        vertical-align: top;\n",
       "    }\n",
       "\n",
       "    .dataframe thead th {\n",
       "        text-align: right;\n",
       "    }\n",
       "</style>\n",
       "<table border=\"1\" class=\"dataframe\">\n",
       "  <thead>\n",
       "    <tr style=\"text-align: right;\">\n",
       "      <th></th>\n",
       "      <th>PassengerId</th>\n",
       "      <th>Survived</th>\n",
       "      <th>Pclass</th>\n",
       "      <th>Name</th>\n",
       "      <th>Sex</th>\n",
       "      <th>Age</th>\n",
       "      <th>SibSp</th>\n",
       "      <th>Parch</th>\n",
       "      <th>Ticket</th>\n",
       "      <th>Fare</th>\n",
       "      <th>Cabin</th>\n",
       "      <th>Embarked</th>\n",
       "    </tr>\n",
       "  </thead>\n",
       "  <tbody>\n",
       "    <tr>\n",
       "      <th>0</th>\n",
       "      <td>1</td>\n",
       "      <td>0</td>\n",
       "      <td>3</td>\n",
       "      <td>Braund, Mr. Owen Harris</td>\n",
       "      <td>male</td>\n",
       "      <td>22.0</td>\n",
       "      <td>1</td>\n",
       "      <td>0</td>\n",
       "      <td>A/5 21171</td>\n",
       "      <td>7.2500</td>\n",
       "      <td>NaN</td>\n",
       "      <td>S</td>\n",
       "    </tr>\n",
       "    <tr>\n",
       "      <th>1</th>\n",
       "      <td>2</td>\n",
       "      <td>1</td>\n",
       "      <td>1</td>\n",
       "      <td>Cumings, Mrs. John Bradley (Florence Briggs Th...</td>\n",
       "      <td>female</td>\n",
       "      <td>38.0</td>\n",
       "      <td>1</td>\n",
       "      <td>0</td>\n",
       "      <td>PC 17599</td>\n",
       "      <td>71.2833</td>\n",
       "      <td>C85</td>\n",
       "      <td>C</td>\n",
       "    </tr>\n",
       "    <tr>\n",
       "      <th>2</th>\n",
       "      <td>3</td>\n",
       "      <td>1</td>\n",
       "      <td>3</td>\n",
       "      <td>Heikkinen, Miss. Laina</td>\n",
       "      <td>female</td>\n",
       "      <td>26.0</td>\n",
       "      <td>0</td>\n",
       "      <td>0</td>\n",
       "      <td>STON/O2. 3101282</td>\n",
       "      <td>7.9250</td>\n",
       "      <td>NaN</td>\n",
       "      <td>S</td>\n",
       "    </tr>\n",
       "  </tbody>\n",
       "</table>\n",
       "</div>"
      ],
      "text/plain": [
       "   PassengerId  Survived  Pclass  \\\n",
       "0            1         0       3   \n",
       "1            2         1       1   \n",
       "2            3         1       3   \n",
       "\n",
       "                                                Name     Sex   Age  SibSp  \\\n",
       "0                            Braund, Mr. Owen Harris    male  22.0      1   \n",
       "1  Cumings, Mrs. John Bradley (Florence Briggs Th...  female  38.0      1   \n",
       "2                             Heikkinen, Miss. Laina  female  26.0      0   \n",
       "\n",
       "   Parch            Ticket     Fare Cabin Embarked  \n",
       "0      0         A/5 21171   7.2500   NaN        S  \n",
       "1      0          PC 17599  71.2833   C85        C  \n",
       "2      0  STON/O2. 3101282   7.9250   NaN        S  "
      ]
     },
     "execution_count": 64,
     "metadata": {},
     "output_type": "execute_result"
    }
   ],
   "source": [
    "'''We will use the Titanic dataset, as supplied here (Titanic_full.csv).\n",
    "The same dataset can be downloaded from the Kaggle website. Check the\n",
    "shape and header of the data you just read in as a dataframe. The use of\n",
    "f and {} is specific to the recent versions of Python (3.x). You can as \n",
    "well type the full path here, and that works too!'''\n",
    "\n",
    "my_df = pd.read_csv(f'{my_path}/Titanic_full.csv') # read csv with new python 3 string format\n",
    "print(my_df.shape)\n",
    "my_df.head(3)"
   ]
  },
  {
   "cell_type": "markdown",
   "metadata": {},
   "source": [
    "# III. Train - Valid- Test Split"
   ]
  },
  {
   "cell_type": "code",
   "execution_count": 65,
   "metadata": {},
   "outputs": [
    {
     "name": "stdout",
     "output_type": "stream",
     "text": [
      "(1100, 12) (209, 12)\n"
     ]
    }
   ],
   "source": [
    "'''As we have seen, it's important to avoid the Texas sharp shooter logical\n",
    "fallacy. So, we plit the data into three sets in a 70-15-15 manner. \n",
    "This means 70% of the data rows go into building or training the model. \n",
    "This 70% is often called a training set. 15% of the data goes into \n",
    "evaluating model performance as you manually change or set the model \n",
    "hyperparameters (e.g. Value of K is a hyperparameter,in K-NN algorithm). \n",
    "This dataset is sometimes called a holdout set or the validation set. \n",
    "Finally, the last 15% of the data is the test set.  This dataset is \n",
    "never \"seen\" by the model for model building or hyperparamter tuning. After\n",
    "hyperparameter tuning and model selection, which we will discuss later,\n",
    "the model's final performance before sneidng it to production, will be\n",
    "evalauted on this test data set.\n",
    "The way the datarows are distributed will depend on the type of problem. \n",
    "Here, assuming the datarows of my_df are randomly arranged, and there's\n",
    "no time component, we will simply simply do the split, using a split \n",
    "function that we define. Also, this 15% split \n",
    "for the test set may change, if the actual test set size is predefined. \n",
    "In any case we will make sure the test set we choose from our dataset \n",
    "is as similar as it can get to the actual data that it will see in \n",
    "production'''\n",
    "\n",
    "#Calculate 15% of 1309. This is about 209 rows of data. \n",
    "#So, 1309 - 209 = 1100 rows of data will remain for the\n",
    "#train and valid sets which we will separate later. 200 rows of data will\n",
    "#go as test set data\n",
    "\n",
    "def mydf_splitter(my_df,num_rows):\n",
    "    return my_df[:num_rows].copy(),my_df[num_rows:]\n",
    "\n",
    "\n",
    "mydf_train_valid,mydf_test = mydf_splitter(my_df,1100)\n",
    "\n",
    "print(mydf_train_valid.shape,mydf_test.shape)\n",
    "\n",
    "#We are going to put away the mydf_test for now. \n",
    "#We will return to it later."
   ]
  },
  {
   "cell_type": "markdown",
   "metadata": {},
   "source": [
    "# IV. Data Pre-processing"
   ]
  },
  {
   "cell_type": "code",
   "execution_count": 66,
   "metadata": {},
   "outputs": [
    {
     "data": {
      "text/plain": [
       "<AxesSubplot:xlabel='Feature', ylabel='Percent missing'>"
      ]
     },
     "execution_count": 66,
     "metadata": {},
     "output_type": "execute_result"
    },
    {
     "data": {
      "image/png": "[encoded data removed]",
      "text/plain": [
       "<Figure size 576x432 with 1 Axes>"
      ]
     },
     "metadata": {
      "needs_background": "light"
     },
     "output_type": "display_data"
    }
   ],
   "source": [
    "''' Deal with missing values. First, calculate the percentage of\n",
    "missing values for every column, and plot them as a bar chart'''\n",
    "\n",
    "null_vals = mydf_train_valid.isnull().sum()/len(mydf_train_valid)*100\n",
    "null_vals = pd.DataFrame(null_vals)\n",
    "null_vals.reset_index(inplace = True)\n",
    "null_vals.columns = [\"Feature\",\"Percent missing\"]\n",
    "plt.figure(figsize = (8,6))\n",
    "plt.xticks(rotation=45)\n",
    "sns.barplot(x = \"Feature\",y =\"Percent missing\",data = null_vals)"
   ]
  },
  {
   "cell_type": "markdown",
   "metadata": {},
   "source": [
    "From the above plot, it looks like Cabin has ~80%missing values.\n",
    "It would be meaningless to impute or fill in 80% values, so we drop the column.\n",
    "We will impute age (which has ~ 20% missing, but we'll try to impute),\n",
    "Fare, and Embarked column.These have very little missing values\n",
    "\n",
    "We are going to preprocess this dataset in these steps--\n",
    "\n",
    "1. Convert the entire dataframe to an array of numbers. This itself is going to happen in two steps -- (a) Convert object types and string types to category type (b) map and convert cateogries of numbers.\n",
    "\n",
    "2. Impute or \"fill in\" missing values or NaNs. Here, continuous (e.g. Fare column) and categorical values are treated separately. For filling up missing continuous values, we use the median value of that column, and filling up missing categorical values, we use 0. Also, we add a separate \"marker\" column for both that notes whether a value has been imputed or not.\n",
    "\n",
    "3. Finally, for a lot of the algorithms like k-NN, we scale the data to lie between 0 and 1 with mean zero and unit variance.\n"
   ]
  },
  {
   "cell_type": "code",
   "execution_count": 67,
   "metadata": {},
   "outputs": [
    {
     "name": "stdout",
     "output_type": "stream",
     "text": [
      "(1100, 11)\n"
     ]
    },
    {
     "data": {
      "text/html": [
       "<div>\n",
       "<style scoped>\n",
       "    .dataframe tbody tr th:only-of-type {\n",
       "        vertical-align: middle;\n",
       "    }\n",
       "\n",
       "    .dataframe tbody tr th {\n",
       "        vertical-align: top;\n",
       "    }\n",
       "\n",
       "    .dataframe thead th {\n",
       "        text-align: right;\n",
       "    }\n",
       "</style>\n",
       "<table border=\"1\" class=\"dataframe\">\n",
       "  <thead>\n",
       "    <tr style=\"text-align: right;\">\n",
       "      <th></th>\n",
       "      <th>PassengerId</th>\n",
       "      <th>Survived</th>\n",
       "      <th>Pclass</th>\n",
       "      <th>Name</th>\n",
       "      <th>Sex</th>\n",
       "      <th>Age</th>\n",
       "      <th>SibSp</th>\n",
       "      <th>Parch</th>\n",
       "      <th>Ticket</th>\n",
       "      <th>Fare</th>\n",
       "      <th>Embarked</th>\n",
       "    </tr>\n",
       "  </thead>\n",
       "  <tbody>\n",
       "    <tr>\n",
       "      <th>0</th>\n",
       "      <td>1</td>\n",
       "      <td>0</td>\n",
       "      <td>3</td>\n",
       "      <td>Braund, Mr. Owen Harris</td>\n",
       "      <td>male</td>\n",
       "      <td>22.0</td>\n",
       "      <td>1</td>\n",
       "      <td>0</td>\n",
       "      <td>A/5 21171</td>\n",
       "      <td>7.2500</td>\n",
       "      <td>S</td>\n",
       "    </tr>\n",
       "    <tr>\n",
       "      <th>1</th>\n",
       "      <td>2</td>\n",
       "      <td>1</td>\n",
       "      <td>1</td>\n",
       "      <td>Cumings, Mrs. John Bradley (Florence Briggs Th...</td>\n",
       "      <td>female</td>\n",
       "      <td>38.0</td>\n",
       "      <td>1</td>\n",
       "      <td>0</td>\n",
       "      <td>PC 17599</td>\n",
       "      <td>71.2833</td>\n",
       "      <td>C</td>\n",
       "    </tr>\n",
       "  </tbody>\n",
       "</table>\n",
       "</div>"
      ],
      "text/plain": [
       "   PassengerId  Survived  Pclass  \\\n",
       "0            1         0       3   \n",
       "1            2         1       1   \n",
       "\n",
       "                                                Name     Sex   Age  SibSp  \\\n",
       "0                            Braund, Mr. Owen Harris    male  22.0      1   \n",
       "1  Cumings, Mrs. John Bradley (Florence Briggs Th...  female  38.0      1   \n",
       "\n",
       "   Parch     Ticket     Fare Embarked  \n",
       "0      0  A/5 21171   7.2500        S  \n",
       "1      0   PC 17599  71.2833        C  "
      ]
     },
     "execution_count": 67,
     "metadata": {},
     "output_type": "execute_result"
    }
   ],
   "source": [
    "mydf_train_valid_2 = mydf_train_valid.drop(\"Cabin\",axis = 'columns')\n",
    "print(mydf_train_valid_2.shape)\n",
    "mydf_train_valid_2.head(2)"
   ]
  },
  {
   "cell_type": "code",
   "execution_count": 68,
   "metadata": {},
   "outputs": [
    {
     "name": "stdout",
     "output_type": "stream",
     "text": [
      "<class 'pandas.core.frame.DataFrame'>\n",
      "RangeIndex: 1100 entries, 0 to 1099\n",
      "Data columns (total 11 columns):\n",
      " #   Column       Non-Null Count  Dtype  \n",
      "---  ------       --------------  -----  \n",
      " 0   PassengerId  1100 non-null   int64  \n",
      " 1   Survived     1100 non-null   int64  \n",
      " 2   Pclass       1100 non-null   int64  \n",
      " 3   Name         1100 non-null   object \n",
      " 4   Sex          1100 non-null   object \n",
      " 5   Age          881 non-null    float64\n",
      " 6   SibSp        1100 non-null   int64  \n",
      " 7   Parch        1100 non-null   int64  \n",
      " 8   Ticket       1100 non-null   object \n",
      " 9   Fare         1099 non-null   float64\n",
      " 10  Embarked     1098 non-null   object \n",
      "dtypes: float64(2), int64(5), object(4)\n",
      "memory usage: 94.7+ KB\n"
     ]
    }
   ],
   "source": [
    "#Check types of each column with the dataframe info () method\n",
    "mydf_train_valid_2.info()"
   ]
  },
  {
   "cell_type": "code",
   "execution_count": 69,
   "metadata": {},
   "outputs": [],
   "source": [
    "'''You can see that several of the columns or features are \"object\" type\n",
    "These need to be changed to category before we can convert those to \n",
    "mappings and numbers'''\n",
    "#1 (a) Define a function to convert object types and string types to category type\n",
    "\n",
    "def str_to_cat(my_df):\n",
    "    for p,q in my_df.items(): #my_df.items() is a generator in Python\n",
    "        if is_string_dtype(q): \n",
    "            my_df[p] = q.astype('category').cat.as_ordered()\n",
    "    return my_df"
   ]
  },
  {
   "cell_type": "code",
   "execution_count": 70,
   "metadata": {},
   "outputs": [
    {
     "name": "stdout",
     "output_type": "stream",
     "text": [
      "\n"
     ]
    }
   ],
   "source": [
    "mydf_train_valid_3 = str_to_cat(mydf_train_valid_2)\n",
    "print()"
   ]
  },
  {
   "cell_type": "code",
   "execution_count": 71,
   "metadata": {},
   "outputs": [
    {
     "name": "stdout",
     "output_type": "stream",
     "text": [
      "<class 'pandas.core.frame.DataFrame'>\n",
      "RangeIndex: 1100 entries, 0 to 1099\n",
      "Data columns (total 11 columns):\n",
      " #   Column       Non-Null Count  Dtype   \n",
      "---  ------       --------------  -----   \n",
      " 0   PassengerId  1100 non-null   int64   \n",
      " 1   Survived     1100 non-null   int64   \n",
      " 2   Pclass       1100 non-null   int64   \n",
      " 3   Name         1100 non-null   category\n",
      " 4   Sex          1100 non-null   category\n",
      " 5   Age          881 non-null    float64 \n",
      " 6   SibSp        1100 non-null   int64   \n",
      " 7   Parch        1100 non-null   int64   \n",
      " 8   Ticket       1100 non-null   category\n",
      " 9   Fare         1099 non-null   float64 \n",
      " 10  Embarked     1098 non-null   category\n",
      "dtypes: category(4), float64(2), int64(5)\n",
      "memory usage: 161.8 KB\n"
     ]
    }
   ],
   "source": [
    "#Check dtypes of columns after this operation\n",
    "mydf_train_valid_3.info()"
   ]
  },
  {
   "cell_type": "code",
   "execution_count": 72,
   "metadata": {},
   "outputs": [
    {
     "name": "stdout",
     "output_type": "stream",
     "text": [
      "Index(['C', 'Q', 'S'], dtype='object')\n",
      "Index(['female', 'male'], dtype='object')\n"
     ]
    }
   ],
   "source": [
    "'''Check the cateogry mapping for Embarked and Sex column. We need this\n",
    "later'''\n",
    "print(mydf_train_valid_3.Embarked.cat.categories)\n",
    "print(mydf_train_valid_3.Sex.cat.categories)"
   ]
  },
  {
   "cell_type": "markdown",
   "metadata": {},
   "source": [
    "All object categories like Name, Sex, and Ticket have been converted to\n",
    "Category dtype !"
   ]
  },
  {
   "cell_type": "code",
   "execution_count": 73,
   "metadata": {},
   "outputs": [],
   "source": [
    "'''Define impute functions. Impute categorical NaNs with -1, \n",
    "where we add 1 to make it 0. For each \n",
    "continuous variables, we impute missing values with median values of that\n",
    "column, and for every variable\n",
    "where any rows were imputed, add a separate 'imputed or not' column'''\n",
    "\n",
    "def mydf_to_nums(my_df, feature, null_status):\n",
    "    \"\"\"\n",
    "    Parameters\n",
    "    ----------\n",
    "    my_df : source datafram\n",
    "    feature : the series of 'feature'\n",
    "    null_status : column name string\n",
    "    \"\"\"\n",
    "    if not is_numeric_dtype(feature):\n",
    "        my_df[null_status] = feature.cat.codes + 1\n",
    "#         print(f\"convert {null_status} column categories to number\")\n",
    "#         print(my_df.head(20))\n",
    "        \n",
    "def mydf_imputer(my_df, feature, null_status, null_table):\n",
    "    \"\"\"\n",
    "    Parameters\n",
    "    ----------\n",
    "    my_df : source datafram\n",
    "    feature : the series of 'feature'\n",
    "    null_status : column name string\n",
    "    null_table : dict to store computed median\n",
    "    \"\"\"\n",
    "    if is_numeric_dtype(feature):\n",
    "        if pd.isnull(feature).sum() or (null_status in null_table):\n",
    "            my_df[null_status+'_na'] = pd.isnull(feature)\n",
    "#             print(f\"process {null_status+'_na'}\")\n",
    "#             print(my_df.head(20))\n",
    "            filler = null_table[null_status] if null_status in null_table else feature.median()\n",
    "            my_df[null_status] = feature.fillna(filler)\n",
    "#             print(f\"fill NaN in {null_status} with median: {filler}\")\n",
    "#             print(my_df.head(20))\n",
    "            null_table[null_status] = filler\n",
    "#             print(f\"put {null_status}:{filler} into null_table\")\n",
    "#             print(null_table)\n",
    "    return null_table   \n",
    "\n",
    "def mydf_preprocessor(my_df, null_table):\n",
    "    '''null_table  = your table or None'''\n",
    "    \n",
    "    if null_table is None: \n",
    "        null_table = dict()\n",
    "    for p,q in my_df.items(): \n",
    "        null_table = mydf_imputer(my_df, q, p, null_table)\n",
    "    for p,q in my_df.items(): \n",
    "        mydf_to_nums(my_df, q, p)\n",
    "    my_df = pd.get_dummies(my_df, dummy_na = True)\n",
    "    res = [my_df, null_table]\n",
    "    return res"
   ]
  },
  {
   "cell_type": "code",
   "execution_count": null,
   "metadata": {},
   "outputs": [],
   "source": [
    "mydf_train_valid_4,my_table = mydf_preprocessor(mydf_train_valid_3,null_table = None)"
   ]
  },
  {
   "cell_type": "code",
   "execution_count": 45,
   "metadata": {},
   "outputs": [
    {
     "data": {
      "text/html": [
       "<div>\n",
       "<style scoped>\n",
       "    .dataframe tbody tr th:only-of-type {\n",
       "        vertical-align: middle;\n",
       "    }\n",
       "\n",
       "    .dataframe tbody tr th {\n",
       "        vertical-align: top;\n",
       "    }\n",
       "\n",
       "    .dataframe thead th {\n",
       "        text-align: right;\n",
       "    }\n",
       "</style>\n",
       "<table border=\"1\" class=\"dataframe\">\n",
       "  <thead>\n",
       "    <tr style=\"text-align: right;\">\n",
       "      <th></th>\n",
       "      <th>PassengerId</th>\n",
       "      <th>Survived</th>\n",
       "      <th>Pclass</th>\n",
       "      <th>Name</th>\n",
       "      <th>Sex</th>\n",
       "      <th>Age</th>\n",
       "      <th>SibSp</th>\n",
       "      <th>Parch</th>\n",
       "      <th>Ticket</th>\n",
       "      <th>Fare</th>\n",
       "      <th>Embarked</th>\n",
       "      <th>Age_na</th>\n",
       "      <th>Fare_na</th>\n",
       "    </tr>\n",
       "  </thead>\n",
       "  <tbody>\n",
       "    <tr>\n",
       "      <th>0</th>\n",
       "      <td>1</td>\n",
       "      <td>0</td>\n",
       "      <td>3</td>\n",
       "      <td>135</td>\n",
       "      <td>2</td>\n",
       "      <td>22.0</td>\n",
       "      <td>1</td>\n",
       "      <td>0</td>\n",
       "      <td>629</td>\n",
       "      <td>7.2500</td>\n",
       "      <td>3</td>\n",
       "      <td>False</td>\n",
       "      <td>False</td>\n",
       "    </tr>\n",
       "    <tr>\n",
       "      <th>1</th>\n",
       "      <td>2</td>\n",
       "      <td>1</td>\n",
       "      <td>1</td>\n",
       "      <td>245</td>\n",
       "      <td>1</td>\n",
       "      <td>38.0</td>\n",
       "      <td>1</td>\n",
       "      <td>0</td>\n",
       "      <td>713</td>\n",
       "      <td>71.2833</td>\n",
       "      <td>1</td>\n",
       "      <td>False</td>\n",
       "      <td>False</td>\n",
       "    </tr>\n",
       "    <tr>\n",
       "      <th>2</th>\n",
       "      <td>3</td>\n",
       "      <td>1</td>\n",
       "      <td>3</td>\n",
       "      <td>442</td>\n",
       "      <td>1</td>\n",
       "      <td>26.0</td>\n",
       "      <td>0</td>\n",
       "      <td>0</td>\n",
       "      <td>799</td>\n",
       "      <td>7.9250</td>\n",
       "      <td>3</td>\n",
       "      <td>False</td>\n",
       "      <td>False</td>\n",
       "    </tr>\n",
       "  </tbody>\n",
       "</table>\n",
       "</div>"
      ],
      "text/plain": [
       "   PassengerId  Survived  Pclass  Name  Sex   Age  SibSp  Parch  Ticket  \\\n",
       "0            1         0       3   135    2  22.0      1      0     629   \n",
       "1            2         1       1   245    1  38.0      1      0     713   \n",
       "2            3         1       3   442    1  26.0      0      0     799   \n",
       "\n",
       "      Fare  Embarked  Age_na  Fare_na  \n",
       "0   7.2500         3   False    False  \n",
       "1  71.2833         1   False    False  \n",
       "2   7.9250         3   False    False  "
      ]
     },
     "execution_count": 45,
     "metadata": {},
     "output_type": "execute_result"
    }
   ],
   "source": [
    "mydf_train_valid_4.head(3)"
   ]
  },
  {
   "cell_type": "code",
   "execution_count": 76,
   "metadata": {},
   "outputs": [
    {
     "data": {
      "text/plain": [
       "{'Age': 28.0, 'Fare': 14.4583}"
      ]
     },
     "execution_count": 76,
     "metadata": {},
     "output_type": "execute_result"
    }
   ],
   "source": [
    "'''Please store the null_table, category mapping separately.\n",
    "We will need to process the test dataset using these values'''\n",
    "my_table"
   ]
  },
  {
   "cell_type": "code",
   "execution_count": 77,
   "metadata": {},
   "outputs": [
    {
     "name": "stdout",
     "output_type": "stream",
     "text": [
      "(1100, 12) (1100,)\n"
     ]
    }
   ],
   "source": [
    "'''Now, let's separate the X and Y variables (vertical split of the \n",
    "dataframe). Here the Y column is the variable we are trying to predict, \n",
    "survived or not(0 = No, 1 = Yes)'''\n",
    "\n",
    "Y = mydf_train_valid_4[\"Survived\"]\n",
    "X = mydf_train_valid_4.drop([\"Survived\"],axis = 1)\n",
    "\n",
    "print(X.shape,Y.shape)"
   ]
  },
  {
   "cell_type": "code",
   "execution_count": 78,
   "metadata": {},
   "outputs": [
    {
     "name": "stdout",
     "output_type": "stream",
     "text": [
      "(1100, 10) (1100, 2)\n"
     ]
    }
   ],
   "source": [
    "'''Note that the different continuous variable columns of this dataframe \n",
    "have numbers in different ranges. For example, the Fare and age columns. \n",
    "For some machine learning algorithms like Decision Trees and \n",
    "their ensembles (Random Forests, for example) the above X and Y\n",
    "can be directly used as input. However, for a lot of other ML algorithms \n",
    "like K nearest neighbors (KNN), we need to scale the continuous variables \n",
    "so that their values are mapped to a number between 0 and 1. \n",
    "Let's split this dataframe into continuous variable \n",
    "columns and those with categorical variables. We will leave \n",
    "the categorical variables untouched because their \n",
    "values are treated as different levels and its kind of meaningless to\n",
    "scale them'''\n",
    "\n",
    "X_cat = X[['PassengerId', 'Pclass', 'Name', 'Sex', 'SibSp', 'Parch',\n",
    "       'Ticket', 'Embarked', 'Age_na', 'Fare_na']]\n",
    "X_con = X.drop(X_cat,axis = 1)\n",
    "print(X_cat.shape,X_con.shape)"
   ]
  },
  {
   "cell_type": "code",
   "execution_count": 19,
   "metadata": {},
   "outputs": [
    {
     "name": "stdout",
     "output_type": "stream",
     "text": [
      "(1100, 2)\n"
     ]
    },
    {
     "data": {
      "text/html": [
       "<div>\n",
       "<style scoped>\n",
       "    .dataframe tbody tr th:only-of-type {\n",
       "        vertical-align: middle;\n",
       "    }\n",
       "\n",
       "    .dataframe tbody tr th {\n",
       "        vertical-align: top;\n",
       "    }\n",
       "\n",
       "    .dataframe thead th {\n",
       "        text-align: right;\n",
       "    }\n",
       "</style>\n",
       "<table border=\"1\" class=\"dataframe\">\n",
       "  <thead>\n",
       "    <tr style=\"text-align: right;\">\n",
       "      <th></th>\n",
       "      <th>Age</th>\n",
       "      <th>Fare</th>\n",
       "    </tr>\n",
       "  </thead>\n",
       "  <tbody>\n",
       "    <tr>\n",
       "      <th>0</th>\n",
       "      <td>-0.574896</td>\n",
       "      <td>-0.502155</td>\n",
       "    </tr>\n",
       "    <tr>\n",
       "      <th>1</th>\n",
       "      <td>0.659705</td>\n",
       "      <td>0.747957</td>\n",
       "    </tr>\n",
       "  </tbody>\n",
       "</table>\n",
       "</div>"
      ],
      "text/plain": [
       "        Age      Fare\n",
       "0 -0.574896 -0.502155\n",
       "1  0.659705  0.747957"
      ]
     },
     "execution_count": 19,
     "metadata": {},
     "output_type": "execute_result"
    }
   ],
   "source": [
    "'''Scale the continuous variables. To standardize (includes scaling), \n",
    "we subtract mean of that column from every value, then divide the results \n",
    "by the variable's standard deviation. There are different ways to \n",
    "standardize. Please see preprocessing under scikit-leanr page'''\n",
    "\n",
    "scaler = preprocessing.StandardScaler().fit(X_con)\n",
    "X_con_sc = pd.DataFrame(scaler.transform(X_con))\n",
    "X_con_sc.columns = [\"Age\",\"Fare\"]\n",
    "print(X_con_sc.shape)\n",
    "X_con_sc.head(2)"
   ]
  },
  {
   "cell_type": "code",
   "execution_count": 20,
   "metadata": {},
   "outputs": [
    {
     "name": "stdout",
     "output_type": "stream",
     "text": [
      "(1100, 12)\n"
     ]
    },
    {
     "data": {
      "text/html": [
       "<div>\n",
       "<style scoped>\n",
       "    .dataframe tbody tr th:only-of-type {\n",
       "        vertical-align: middle;\n",
       "    }\n",
       "\n",
       "    .dataframe tbody tr th {\n",
       "        vertical-align: top;\n",
       "    }\n",
       "\n",
       "    .dataframe thead th {\n",
       "        text-align: right;\n",
       "    }\n",
       "</style>\n",
       "<table border=\"1\" class=\"dataframe\">\n",
       "  <thead>\n",
       "    <tr style=\"text-align: right;\">\n",
       "      <th></th>\n",
       "      <th>PassengerId</th>\n",
       "      <th>Pclass</th>\n",
       "      <th>Name</th>\n",
       "      <th>Sex</th>\n",
       "      <th>SibSp</th>\n",
       "      <th>Parch</th>\n",
       "      <th>Ticket</th>\n",
       "      <th>Embarked</th>\n",
       "      <th>Age_na</th>\n",
       "      <th>Fare_na</th>\n",
       "      <th>Age</th>\n",
       "      <th>Fare</th>\n",
       "    </tr>\n",
       "  </thead>\n",
       "  <tbody>\n",
       "    <tr>\n",
       "      <th>0</th>\n",
       "      <td>1</td>\n",
       "      <td>3</td>\n",
       "      <td>135</td>\n",
       "      <td>2</td>\n",
       "      <td>1</td>\n",
       "      <td>0</td>\n",
       "      <td>629</td>\n",
       "      <td>3</td>\n",
       "      <td>False</td>\n",
       "      <td>False</td>\n",
       "      <td>-0.574896</td>\n",
       "      <td>-0.502155</td>\n",
       "    </tr>\n",
       "    <tr>\n",
       "      <th>1</th>\n",
       "      <td>2</td>\n",
       "      <td>1</td>\n",
       "      <td>245</td>\n",
       "      <td>1</td>\n",
       "      <td>1</td>\n",
       "      <td>0</td>\n",
       "      <td>713</td>\n",
       "      <td>1</td>\n",
       "      <td>False</td>\n",
       "      <td>False</td>\n",
       "      <td>0.659705</td>\n",
       "      <td>0.747957</td>\n",
       "    </tr>\n",
       "  </tbody>\n",
       "</table>\n",
       "</div>"
      ],
      "text/plain": [
       "   PassengerId  Pclass  Name  Sex  SibSp  Parch  Ticket  Embarked  Age_na  \\\n",
       "0            1       3   135    2      1      0     629         3   False   \n",
       "1            2       1   245    1      1      0     713         1   False   \n",
       "\n",
       "   Fare_na       Age      Fare  \n",
       "0    False -0.574896 -0.502155  \n",
       "1    False  0.659705  0.747957  "
      ]
     },
     "execution_count": 20,
     "metadata": {},
     "output_type": "execute_result"
    }
   ],
   "source": [
    "'''Store this scaler variable or its mean and SD, by pickling or something;\n",
    "we need to use the same mean and SD scaler later while pre-processing \n",
    "the test set. Now, let's join the cateogrical and scaled continuous \n",
    "variables, back together into one dataframe'''\n",
    "\n",
    "df_list = [X_cat,X_con_sc]\n",
    "X_full = pd.concat(df_list,axis = 1)\n",
    "print(X_full.shape)\n",
    "X_full.head(2)"
   ]
  },
  {
   "cell_type": "code",
   "execution_count": 21,
   "metadata": {},
   "outputs": [
    {
     "name": "stdout",
     "output_type": "stream",
     "text": [
      "(900, 12) (200, 12) (900,) (200,)\n"
     ]
    }
   ],
   "source": [
    "'''Then, split into train and valid sets for model building \n",
    "and hyperparameter tuning, respectively !Remember, we need to \n",
    "split (horizontally the rows) X_full into train and validation sets.\n",
    "We use the dataframe splitter function we defined previously.\n",
    "Strictly for later use in another module, merge X and Y and store.\n",
    "Save it as train data. Reason explained in module III'''\n",
    "\n",
    "X_train,X_valid = mydf_splitter(X_full,900)\n",
    "Y_train,Y_valid = mydf_splitter(Y,900)\n",
    "\n",
    "print(X_train.shape,X_valid.shape,Y_train.shape,Y_valid.shape)\n"
   ]
  },
  {
   "cell_type": "code",
   "execution_count": 81,
   "metadata": {},
   "outputs": [],
   "source": [
    "'''Time for training the model and evaluating it on the validation set. \n",
    "At first, let's use the default values for the kNN hyperparameters -\n",
    "n_neighbors = 3,weights = 'uniform'). KNN has more hyperparameters such as\n",
    "leaf_size, metric, etc. But, these two are key hyperparamters'''\n",
    "\n",
    "my_knn_model = KNeighborsClassifier(n_neighbors = 5,weights = 'uniform')\n",
    "my_knn_model.fit(X_train,Y_train)\n",
    "\n",
    "#Predict on the validation set\n",
    "Y_pred = my_knn_model.predict(X_valid)"
   ]
  },
  {
   "cell_type": "code",
   "execution_count": 82,
   "metadata": {},
   "outputs": [
    {
     "data": {
      "text/plain": [
       "<AxesSubplot:>"
      ]
     },
     "execution_count": 82,
     "metadata": {},
     "output_type": "execute_result"
    },
    {
     "data": {
      "image/png": "[encoded data removed]",
      "text/plain": [
       "<Figure size 576x576 with 2 Axes>"
      ]
     },
     "metadata": {
      "needs_background": "light"
     },
     "output_type": "display_data"
    }
   ],
   "source": [
    "# Plot confusion matrix\n",
    "from sklearn.metrics import confusion_matrix\n",
    "\n",
    "my_knn_cmatrix = confusion_matrix(Y_valid,Y_pred)\n",
    "\n",
    "my_knn_df = pd.DataFrame(my_knn_cmatrix)\n",
    "plt.figure(figsize = (8,8))\n",
    "sns.heatmap(my_knn_df, xticklabels = [\"Unlucky\",\"Survived\"],\n",
    "            yticklabels = [\"Unlucky\",\"Survived\"],annot = True)"
   ]
  },
  {
   "cell_type": "code",
   "execution_count": 83,
   "metadata": {},
   "outputs": [
    {
     "name": "stdout",
     "output_type": "stream",
     "text": [
      "0.54 -0.0474697036788388 0.29230769230769227\n"
     ]
    }
   ],
   "source": [
    "print(accuracy_score(Y_valid,Y_pred),\n",
    "      matthews_corrcoef(Y_valid,Y_pred),f1_score(Y_valid,Y_pred))\n",
    "\n",
    "#An MCC of -0.0474 looks bad !We need to do model tuning or \n",
    "#hyperparameter tuning to try to make it better"
   ]
  },
  {
   "cell_type": "markdown",
   "metadata": {},
   "source": [
    "# V. Hyperparameter tuning"
   ]
  },
  {
   "cell_type": "code",
   "execution_count": 84,
   "metadata": {},
   "outputs": [],
   "source": [
    "'''We chose a value of K = 5 here. But how do we know if that's the right \n",
    "value? We need to do hyper parameter tuning.That is, we need to check \n",
    "different values of K and find out performance scores for each on the \n",
    "validation set! We will pick the value of K that gives the best \n",
    "validation set accuracy and use that value of K to predict on the\n",
    "test set, which we have kept aside'''\n",
    "\n",
    "from sklearn.metrics import accuracy_score\n",
    "\n",
    "num_neighs = list()\n",
    "accuracy_list = list()\n",
    "\n",
    "\n",
    "for neighbor in range(1,20):\n",
    "    my_knn_model = KNeighborsClassifier(n_neighbors = neighbor,weights = 'uniform')\n",
    "    my_knn_model.fit(X_train,Y_train)\n",
    "    Y_pred = my_knn_model.predict(X_valid)\n",
    "    accuracy = accuracy_score(Y_valid,Y_pred)\n",
    "    num_neighs.append(neighbor)\n",
    "    accuracy_list.append(accuracy)\n",
    "\n"
   ]
  },
  {
   "cell_type": "code",
   "execution_count": 26,
   "metadata": {},
   "outputs": [
    {
     "data": {
      "text/html": [
       "<div>\n",
       "<style scoped>\n",
       "    .dataframe tbody tr th:only-of-type {\n",
       "        vertical-align: middle;\n",
       "    }\n",
       "\n",
       "    .dataframe tbody tr th {\n",
       "        vertical-align: top;\n",
       "    }\n",
       "\n",
       "    .dataframe thead th {\n",
       "        text-align: right;\n",
       "    }\n",
       "</style>\n",
       "<table border=\"1\" class=\"dataframe\">\n",
       "  <thead>\n",
       "    <tr style=\"text-align: right;\">\n",
       "      <th></th>\n",
       "      <th>Num of neighbors</th>\n",
       "      <th>Valid accuracy Score</th>\n",
       "    </tr>\n",
       "  </thead>\n",
       "  <tbody>\n",
       "    <tr>\n",
       "      <th>0</th>\n",
       "      <td>1</td>\n",
       "      <td>0.500</td>\n",
       "    </tr>\n",
       "    <tr>\n",
       "      <th>1</th>\n",
       "      <td>2</td>\n",
       "      <td>0.580</td>\n",
       "    </tr>\n",
       "    <tr>\n",
       "      <th>2</th>\n",
       "      <td>3</td>\n",
       "      <td>0.495</td>\n",
       "    </tr>\n",
       "    <tr>\n",
       "      <th>3</th>\n",
       "      <td>4</td>\n",
       "      <td>0.565</td>\n",
       "    </tr>\n",
       "    <tr>\n",
       "      <th>4</th>\n",
       "      <td>5</td>\n",
       "      <td>0.540</td>\n",
       "    </tr>\n",
       "    <tr>\n",
       "      <th>5</th>\n",
       "      <td>6</td>\n",
       "      <td>0.560</td>\n",
       "    </tr>\n",
       "    <tr>\n",
       "      <th>6</th>\n",
       "      <td>7</td>\n",
       "      <td>0.530</td>\n",
       "    </tr>\n",
       "    <tr>\n",
       "      <th>7</th>\n",
       "      <td>8</td>\n",
       "      <td>0.570</td>\n",
       "    </tr>\n",
       "    <tr>\n",
       "      <th>8</th>\n",
       "      <td>9</td>\n",
       "      <td>0.555</td>\n",
       "    </tr>\n",
       "    <tr>\n",
       "      <th>9</th>\n",
       "      <td>10</td>\n",
       "      <td>0.595</td>\n",
       "    </tr>\n",
       "    <tr>\n",
       "      <th>10</th>\n",
       "      <td>11</td>\n",
       "      <td>0.575</td>\n",
       "    </tr>\n",
       "    <tr>\n",
       "      <th>11</th>\n",
       "      <td>12</td>\n",
       "      <td>0.575</td>\n",
       "    </tr>\n",
       "    <tr>\n",
       "      <th>12</th>\n",
       "      <td>13</td>\n",
       "      <td>0.565</td>\n",
       "    </tr>\n",
       "    <tr>\n",
       "      <th>13</th>\n",
       "      <td>14</td>\n",
       "      <td>0.600</td>\n",
       "    </tr>\n",
       "    <tr>\n",
       "      <th>14</th>\n",
       "      <td>15</td>\n",
       "      <td>0.580</td>\n",
       "    </tr>\n",
       "    <tr>\n",
       "      <th>15</th>\n",
       "      <td>16</td>\n",
       "      <td>0.590</td>\n",
       "    </tr>\n",
       "    <tr>\n",
       "      <th>16</th>\n",
       "      <td>17</td>\n",
       "      <td>0.560</td>\n",
       "    </tr>\n",
       "    <tr>\n",
       "      <th>17</th>\n",
       "      <td>18</td>\n",
       "      <td>0.580</td>\n",
       "    </tr>\n",
       "    <tr>\n",
       "      <th>18</th>\n",
       "      <td>19</td>\n",
       "      <td>0.570</td>\n",
       "    </tr>\n",
       "  </tbody>\n",
       "</table>\n",
       "</div>"
      ],
      "text/plain": [
       "    Num of neighbors  Valid accuracy Score\n",
       "0                  1                 0.500\n",
       "1                  2                 0.580\n",
       "2                  3                 0.495\n",
       "3                  4                 0.565\n",
       "4                  5                 0.540\n",
       "5                  6                 0.560\n",
       "6                  7                 0.530\n",
       "7                  8                 0.570\n",
       "8                  9                 0.555\n",
       "9                 10                 0.595\n",
       "10                11                 0.575\n",
       "11                12                 0.575\n",
       "12                13                 0.565\n",
       "13                14                 0.600\n",
       "14                15                 0.580\n",
       "15                16                 0.590\n",
       "16                17                 0.560\n",
       "17                18                 0.580\n",
       "18                19                 0.570"
      ]
     },
     "execution_count": 26,
     "metadata": {},
     "output_type": "execute_result"
    }
   ],
   "source": [
    "eval_df =  pd.DataFrame({\"Num of neighbors\": num_neighs,\"Valid accuracy Score\": accuracy_list})\n",
    "eval_df"
   ]
  },
  {
   "cell_type": "code",
   "execution_count": 27,
   "metadata": {},
   "outputs": [
    {
     "data": {
      "text/plain": [
       "<seaborn.axisgrid.PairGrid at 0x121d3f940>"
      ]
     },
     "execution_count": 27,
     "metadata": {},
     "output_type": "execute_result"
    },
    {
     "data": {
      "image/png": "[encoded data removed]",
      "text/plain": [
       "<Figure size 288x288 with 1 Axes>"
      ]
     },
     "metadata": {},
     "output_type": "display_data"
    }
   ],
   "source": [
    "#Plot accuracy Vs validation set accuracy of the model\n",
    "sns.set_style(\"whitegrid\")\n",
    "sns.pairplot(eval_df,x_vars = \"Num of neighbors\",\n",
    "             y_vars = \"Valid accuracy Score\",plot_kws = {'s': 60},height = 4.0)"
   ]
  },
  {
   "cell_type": "code",
   "execution_count": 28,
   "metadata": {},
   "outputs": [
    {
     "data": {
      "text/plain": [
       "['/Users/ram/Desktop/INFO 6105 LS copy/Module III/knn_model/knn_model_final.sav']"
      ]
     },
     "execution_count": 28,
     "metadata": {},
     "output_type": "execute_result"
    }
   ],
   "source": [
    "'''Congrats, K = 14 seems to give the best validation set accuracy (= 0.6) !!! So, let's turn to the test set\n",
    "and use K = 14 for that !OK, so how do we save this trained and \n",
    "hyperparameter tuned model for later use? First, we club together, the\n",
    "train and valid set. We already have this dataframe. Then, we make and \n",
    "train a model with K = 14. Then save it with joblib, which we imported \n",
    "earlier'''\n",
    "\n",
    "\n",
    "knn_model_fin = KNeighborsClassifier(n_neighbors = 14,weights = 'uniform')\n",
    "knn_model_fin.fit(X_full,Y)\n",
    "\n",
    "!mkdir knn_model\n",
    "knn_model_name = f'{my_path}/knn_model/knn_model_final.sav'\n",
    "joblib.dump(knn_model_fin,knn_model_name)"
   ]
  },
  {
   "cell_type": "code",
   "execution_count": 29,
   "metadata": {},
   "outputs": [
    {
     "name": "stdout",
     "output_type": "stream",
     "text": [
      "knn_model_final.sav\n"
     ]
    }
   ],
   "source": [
    "#Make sure your model has been saved !\n",
    "!ls knn_model"
   ]
  },
  {
   "cell_type": "code",
   "execution_count": 30,
   "metadata": {},
   "outputs": [],
   "source": [
    "# Congrats! You have saved your model!Now, let's read it back in!\n",
    "knn_model_loaded = joblib.load(knn_model_name)"
   ]
  },
  {
   "cell_type": "markdown",
   "metadata": {},
   "source": [
    "# VI. Evaluating test set accuracy with the trained model"
   ]
  },
  {
   "cell_type": "code",
   "execution_count": 31,
   "metadata": {},
   "outputs": [
    {
     "name": "stdout",
     "output_type": "stream",
     "text": [
      "(209, 12)\n"
     ]
    },
    {
     "data": {
      "text/html": [
       "<div>\n",
       "<style scoped>\n",
       "    .dataframe tbody tr th:only-of-type {\n",
       "        vertical-align: middle;\n",
       "    }\n",
       "\n",
       "    .dataframe tbody tr th {\n",
       "        vertical-align: top;\n",
       "    }\n",
       "\n",
       "    .dataframe thead th {\n",
       "        text-align: right;\n",
       "    }\n",
       "</style>\n",
       "<table border=\"1\" class=\"dataframe\">\n",
       "  <thead>\n",
       "    <tr style=\"text-align: right;\">\n",
       "      <th></th>\n",
       "      <th>PassengerId</th>\n",
       "      <th>Survived</th>\n",
       "      <th>Pclass</th>\n",
       "      <th>Name</th>\n",
       "      <th>Sex</th>\n",
       "      <th>Age</th>\n",
       "      <th>SibSp</th>\n",
       "      <th>Parch</th>\n",
       "      <th>Ticket</th>\n",
       "      <th>Fare</th>\n",
       "      <th>Cabin</th>\n",
       "      <th>Embarked</th>\n",
       "    </tr>\n",
       "  </thead>\n",
       "  <tbody>\n",
       "    <tr>\n",
       "      <th>1100</th>\n",
       "      <td>1101</td>\n",
       "      <td>1</td>\n",
       "      <td>3</td>\n",
       "      <td>Delalic, Mr. Redjo</td>\n",
       "      <td>male</td>\n",
       "      <td>25.0</td>\n",
       "      <td>0</td>\n",
       "      <td>0</td>\n",
       "      <td>349250</td>\n",
       "      <td>7.8958</td>\n",
       "      <td>NaN</td>\n",
       "      <td>S</td>\n",
       "    </tr>\n",
       "    <tr>\n",
       "      <th>1101</th>\n",
       "      <td>1102</td>\n",
       "      <td>0</td>\n",
       "      <td>3</td>\n",
       "      <td>Andersen, Mr. Albert Karvin</td>\n",
       "      <td>male</td>\n",
       "      <td>32.0</td>\n",
       "      <td>0</td>\n",
       "      <td>0</td>\n",
       "      <td>C 4001</td>\n",
       "      <td>22.5250</td>\n",
       "      <td>NaN</td>\n",
       "      <td>S</td>\n",
       "    </tr>\n",
       "    <tr>\n",
       "      <th>1102</th>\n",
       "      <td>1103</td>\n",
       "      <td>1</td>\n",
       "      <td>3</td>\n",
       "      <td>Finoli, Mr. Luigi</td>\n",
       "      <td>male</td>\n",
       "      <td>NaN</td>\n",
       "      <td>0</td>\n",
       "      <td>0</td>\n",
       "      <td>SOTON/O.Q. 3101308</td>\n",
       "      <td>7.0500</td>\n",
       "      <td>NaN</td>\n",
       "      <td>S</td>\n",
       "    </tr>\n",
       "  </tbody>\n",
       "</table>\n",
       "</div>"
      ],
      "text/plain": [
       "      PassengerId  Survived  Pclass                         Name   Sex   Age  \\\n",
       "1100         1101         1       3           Delalic, Mr. Redjo  male  25.0   \n",
       "1101         1102         0       3  Andersen, Mr. Albert Karvin  male  32.0   \n",
       "1102         1103         1       3            Finoli, Mr. Luigi  male   NaN   \n",
       "\n",
       "      SibSp  Parch              Ticket     Fare Cabin Embarked  \n",
       "1100      0      0              349250   7.8958   NaN        S  \n",
       "1101      0      0              C 4001  22.5250   NaN        S  \n",
       "1102      0      0  SOTON/O.Q. 3101308   7.0500   NaN        S  "
      ]
     },
     "execution_count": 31,
     "metadata": {},
     "output_type": "execute_result"
    }
   ],
   "source": [
    "'''Before we can apply this on the test set, we\n",
    "need to pre-process the test set in exactly the same way we did the\n",
    "train_valid set !!!'''\n",
    "\n",
    "print(mydf_test.shape)\n",
    "mydf_test.head(3)\n"
   ]
  },
  {
   "cell_type": "code",
   "execution_count": 32,
   "metadata": {},
   "outputs": [
    {
     "name": "stdout",
     "output_type": "stream",
     "text": [
      "(209, 11)\n"
     ]
    },
    {
     "data": {
      "text/html": [
       "<div>\n",
       "<style scoped>\n",
       "    .dataframe tbody tr th:only-of-type {\n",
       "        vertical-align: middle;\n",
       "    }\n",
       "\n",
       "    .dataframe tbody tr th {\n",
       "        vertical-align: top;\n",
       "    }\n",
       "\n",
       "    .dataframe thead th {\n",
       "        text-align: right;\n",
       "    }\n",
       "</style>\n",
       "<table border=\"1\" class=\"dataframe\">\n",
       "  <thead>\n",
       "    <tr style=\"text-align: right;\">\n",
       "      <th></th>\n",
       "      <th>PassengerId</th>\n",
       "      <th>Survived</th>\n",
       "      <th>Pclass</th>\n",
       "      <th>Name</th>\n",
       "      <th>Sex</th>\n",
       "      <th>Age</th>\n",
       "      <th>SibSp</th>\n",
       "      <th>Parch</th>\n",
       "      <th>Ticket</th>\n",
       "      <th>Fare</th>\n",
       "      <th>Embarked</th>\n",
       "    </tr>\n",
       "  </thead>\n",
       "  <tbody>\n",
       "    <tr>\n",
       "      <th>1100</th>\n",
       "      <td>1101</td>\n",
       "      <td>1</td>\n",
       "      <td>3</td>\n",
       "      <td>Delalic, Mr. Redjo</td>\n",
       "      <td>male</td>\n",
       "      <td>25.0</td>\n",
       "      <td>0</td>\n",
       "      <td>0</td>\n",
       "      <td>349250</td>\n",
       "      <td>7.8958</td>\n",
       "      <td>S</td>\n",
       "    </tr>\n",
       "    <tr>\n",
       "      <th>1101</th>\n",
       "      <td>1102</td>\n",
       "      <td>0</td>\n",
       "      <td>3</td>\n",
       "      <td>Andersen, Mr. Albert Karvin</td>\n",
       "      <td>male</td>\n",
       "      <td>32.0</td>\n",
       "      <td>0</td>\n",
       "      <td>0</td>\n",
       "      <td>C 4001</td>\n",
       "      <td>22.5250</td>\n",
       "      <td>S</td>\n",
       "    </tr>\n",
       "    <tr>\n",
       "      <th>1102</th>\n",
       "      <td>1103</td>\n",
       "      <td>1</td>\n",
       "      <td>3</td>\n",
       "      <td>Finoli, Mr. Luigi</td>\n",
       "      <td>male</td>\n",
       "      <td>NaN</td>\n",
       "      <td>0</td>\n",
       "      <td>0</td>\n",
       "      <td>SOTON/O.Q. 3101308</td>\n",
       "      <td>7.0500</td>\n",
       "      <td>S</td>\n",
       "    </tr>\n",
       "  </tbody>\n",
       "</table>\n",
       "</div>"
      ],
      "text/plain": [
       "      PassengerId  Survived  Pclass                         Name   Sex   Age  \\\n",
       "1100         1101         1       3           Delalic, Mr. Redjo  male  25.0   \n",
       "1101         1102         0       3  Andersen, Mr. Albert Karvin  male  32.0   \n",
       "1102         1103         1       3            Finoli, Mr. Luigi  male   NaN   \n",
       "\n",
       "      SibSp  Parch              Ticket     Fare Embarked  \n",
       "1100      0      0              349250   7.8958        S  \n",
       "1101      0      0              C 4001  22.5250        S  \n",
       "1102      0      0  SOTON/O.Q. 3101308   7.0500        S  "
      ]
     },
     "execution_count": 32,
     "metadata": {},
     "output_type": "execute_result"
    }
   ],
   "source": [
    "#get rid of the \"cabin\" column as we did before with the train_valid set\n",
    "mydf_test1 = mydf_test.drop(\"Cabin\",axis = 1)\n",
    "print(mydf_test1.shape)\n",
    "mydf_test1.head(3)"
   ]
  },
  {
   "cell_type": "code",
   "execution_count": 33,
   "metadata": {},
   "outputs": [
    {
     "data": {
      "text/plain": [
       "Index(['female', 'male'], dtype='object')"
      ]
     },
     "execution_count": 33,
     "metadata": {},
     "output_type": "execute_result"
    }
   ],
   "source": [
    "'''Make sure the category codes for train and test sets are the same as \n",
    "the ones we used previously! Here, we have coded, Name, Sex, Ticket and \n",
    "embarked. Because Name and Ticket ids will not be repeated, \n",
    "we will check Sex and embarked. Checking category codes for the test set...'''\n",
    "\n",
    "mydf_test2 = str_to_cat(mydf_test1)\n",
    "mydf_test2.Sex.cat.categories"
   ]
  },
  {
   "cell_type": "code",
   "execution_count": 34,
   "metadata": {},
   "outputs": [
    {
     "data": {
      "text/plain": [
       "Index(['C', 'Q', 'S'], dtype='object')"
      ]
     },
     "execution_count": 34,
     "metadata": {},
     "output_type": "execute_result"
    }
   ],
   "source": [
    "#Check for the Embarked column\n",
    "mydf_test2.Embarked.cat.categories"
   ]
  },
  {
   "cell_type": "code",
   "execution_count": 35,
   "metadata": {},
   "outputs": [
    {
     "name": "stdout",
     "output_type": "stream",
     "text": [
      "(209, 13)\n"
     ]
    },
    {
     "data": {
      "text/html": [
       "<div>\n",
       "<style scoped>\n",
       "    .dataframe tbody tr th:only-of-type {\n",
       "        vertical-align: middle;\n",
       "    }\n",
       "\n",
       "    .dataframe tbody tr th {\n",
       "        vertical-align: top;\n",
       "    }\n",
       "\n",
       "    .dataframe thead th {\n",
       "        text-align: right;\n",
       "    }\n",
       "</style>\n",
       "<table border=\"1\" class=\"dataframe\">\n",
       "  <thead>\n",
       "    <tr style=\"text-align: right;\">\n",
       "      <th></th>\n",
       "      <th>PassengerId</th>\n",
       "      <th>Survived</th>\n",
       "      <th>Pclass</th>\n",
       "      <th>Name</th>\n",
       "      <th>Sex</th>\n",
       "      <th>Age</th>\n",
       "      <th>SibSp</th>\n",
       "      <th>Parch</th>\n",
       "      <th>Ticket</th>\n",
       "      <th>Fare</th>\n",
       "      <th>Embarked</th>\n",
       "      <th>Age_na</th>\n",
       "      <th>Fare_na</th>\n",
       "    </tr>\n",
       "  </thead>\n",
       "  <tbody>\n",
       "    <tr>\n",
       "      <th>1100</th>\n",
       "      <td>1101</td>\n",
       "      <td>1</td>\n",
       "      <td>3</td>\n",
       "      <td>47</td>\n",
       "      <td>2</td>\n",
       "      <td>25.0</td>\n",
       "      <td>0</td>\n",
       "      <td>0</td>\n",
       "      <td>106</td>\n",
       "      <td>7.8958</td>\n",
       "      <td>3</td>\n",
       "      <td>False</td>\n",
       "      <td>False</td>\n",
       "    </tr>\n",
       "    <tr>\n",
       "      <th>1101</th>\n",
       "      <td>1102</td>\n",
       "      <td>0</td>\n",
       "      <td>3</td>\n",
       "      <td>6</td>\n",
       "      <td>2</td>\n",
       "      <td>32.0</td>\n",
       "      <td>0</td>\n",
       "      <td>0</td>\n",
       "      <td>146</td>\n",
       "      <td>22.5250</td>\n",
       "      <td>3</td>\n",
       "      <td>False</td>\n",
       "      <td>False</td>\n",
       "    </tr>\n",
       "    <tr>\n",
       "      <th>1102</th>\n",
       "      <td>1103</td>\n",
       "      <td>1</td>\n",
       "      <td>3</td>\n",
       "      <td>62</td>\n",
       "      <td>2</td>\n",
       "      <td>28.0</td>\n",
       "      <td>0</td>\n",
       "      <td>0</td>\n",
       "      <td>187</td>\n",
       "      <td>7.0500</td>\n",
       "      <td>3</td>\n",
       "      <td>True</td>\n",
       "      <td>False</td>\n",
       "    </tr>\n",
       "  </tbody>\n",
       "</table>\n",
       "</div>"
      ],
      "text/plain": [
       "      PassengerId  Survived  Pclass  Name  Sex   Age  SibSp  Parch  Ticket  \\\n",
       "1100         1101         1       3    47    2  25.0      0      0     106   \n",
       "1101         1102         0       3     6    2  32.0      0      0     146   \n",
       "1102         1103         1       3    62    2  28.0      0      0     187   \n",
       "\n",
       "         Fare  Embarked  Age_na  Fare_na  \n",
       "1100   7.8958         3   False    False  \n",
       "1101  22.5250         3   False    False  \n",
       "1102   7.0500         3    True    False  "
      ]
     },
     "execution_count": 35,
     "metadata": {},
     "output_type": "execute_result"
    }
   ],
   "source": [
    "#Cool, this means the category codes are the same. We can proceed.\n",
    "#Make sure you use the same impute values of median.\n",
    "mydf_test3,my_table1 = mydf_preprocessor(mydf_test2,\n",
    "                                         null_table = my_table)\n",
    "print(mydf_test3.shape)\n",
    "mydf_test3.head(3)"
   ]
  },
  {
   "cell_type": "code",
   "execution_count": 36,
   "metadata": {},
   "outputs": [
    {
     "data": {
      "text/plain": [
       "{'Age': 28.0, 'Fare': 14.4583}"
      ]
     },
     "execution_count": 36,
     "metadata": {},
     "output_type": "execute_result"
    }
   ],
   "source": [
    "my_table1"
   ]
  },
  {
   "cell_type": "code",
   "execution_count": 37,
   "metadata": {},
   "outputs": [
    {
     "name": "stdout",
     "output_type": "stream",
     "text": [
      "(209, 12) (209,)\n"
     ]
    }
   ],
   "source": [
    "# Now, let's split out the X and Y variables (vertical split of the dataframe)\n",
    "#Remember we did this previously!\n",
    "\n",
    "\n",
    "Y_t = mydf_test3[\"Survived\"]\n",
    "X_t = mydf_test3.drop([\"Survived\"],axis = 1)\n",
    "\n",
    "print(X_t.shape,Y_t.shape)"
   ]
  },
  {
   "cell_type": "code",
   "execution_count": 38,
   "metadata": {},
   "outputs": [
    {
     "name": "stdout",
     "output_type": "stream",
     "text": [
      "(209, 10) (209, 2)\n"
     ]
    }
   ],
   "source": [
    "#Separate continuous and categorical variables/columns for scaling\n",
    "\n",
    "X_cat_t = X_t[['PassengerId', 'Pclass', 'Name', 'Sex', 'SibSp', 'Parch',\n",
    "       'Ticket', 'Embarked', 'Age_na', 'Fare_na']]\n",
    "X_con_t = X_t.drop(X_cat_t,axis = 1)\n",
    "print(X_cat_t.shape,X_con_t.shape)"
   ]
  },
  {
   "cell_type": "code",
   "execution_count": 39,
   "metadata": {},
   "outputs": [
    {
     "name": "stdout",
     "output_type": "stream",
     "text": [
      "(209, 2)\n"
     ]
    },
    {
     "data": {
      "text/html": [
       "<div>\n",
       "<style scoped>\n",
       "    .dataframe tbody tr th:only-of-type {\n",
       "        vertical-align: middle;\n",
       "    }\n",
       "\n",
       "    .dataframe tbody tr th {\n",
       "        vertical-align: top;\n",
       "    }\n",
       "\n",
       "    .dataframe thead th {\n",
       "        text-align: right;\n",
       "    }\n",
       "</style>\n",
       "<table border=\"1\" class=\"dataframe\">\n",
       "  <thead>\n",
       "    <tr style=\"text-align: right;\">\n",
       "      <th></th>\n",
       "      <th>Age</th>\n",
       "      <th>Fare</th>\n",
       "    </tr>\n",
       "  </thead>\n",
       "  <tbody>\n",
       "    <tr>\n",
       "      <th>0</th>\n",
       "      <td>-0.343408</td>\n",
       "      <td>-0.489547</td>\n",
       "    </tr>\n",
       "    <tr>\n",
       "      <th>1</th>\n",
       "      <td>0.196729</td>\n",
       "      <td>-0.203944</td>\n",
       "    </tr>\n",
       "  </tbody>\n",
       "</table>\n",
       "</div>"
      ],
      "text/plain": [
       "        Age      Fare\n",
       "0 -0.343408 -0.489547\n",
       "1  0.196729 -0.203944"
      ]
     },
     "execution_count": 39,
     "metadata": {},
     "output_type": "execute_result"
    }
   ],
   "source": [
    "'''Scale using the training set mean and SD. This is already captured in\n",
    "the scaler object we made. Else, save that in a joblib dump too to reload'''\n",
    "\n",
    "X_con_sct = pd.DataFrame(scaler.transform(X_con_t))\n",
    "X_con_sct.columns = [\"Age\",\"Fare\"]\n",
    "print(X_con_sct.shape)\n",
    "X_con_sct.head(2)\n"
   ]
  },
  {
   "cell_type": "code",
   "execution_count": 40,
   "metadata": {},
   "outputs": [
    {
     "name": "stdout",
     "output_type": "stream",
     "text": [
      "(209, 10) (209, 2)\n"
     ]
    }
   ],
   "source": [
    "print(X_cat_t.shape,X_con_sct.shape)"
   ]
  },
  {
   "cell_type": "code",
   "execution_count": 41,
   "metadata": {},
   "outputs": [],
   "source": [
    "#Re-index before merging\n",
    "X_cat_t.reset_index(inplace = True,drop = False)"
   ]
  },
  {
   "cell_type": "code",
   "execution_count": 42,
   "metadata": {},
   "outputs": [
    {
     "data": {
      "text/html": [
       "<div>\n",
       "<style scoped>\n",
       "    .dataframe tbody tr th:only-of-type {\n",
       "        vertical-align: middle;\n",
       "    }\n",
       "\n",
       "    .dataframe tbody tr th {\n",
       "        vertical-align: top;\n",
       "    }\n",
       "\n",
       "    .dataframe thead th {\n",
       "        text-align: right;\n",
       "    }\n",
       "</style>\n",
       "<table border=\"1\" class=\"dataframe\">\n",
       "  <thead>\n",
       "    <tr style=\"text-align: right;\">\n",
       "      <th></th>\n",
       "      <th>index</th>\n",
       "      <th>PassengerId</th>\n",
       "      <th>Pclass</th>\n",
       "      <th>Name</th>\n",
       "      <th>Sex</th>\n",
       "      <th>SibSp</th>\n",
       "      <th>Parch</th>\n",
       "      <th>Ticket</th>\n",
       "      <th>Embarked</th>\n",
       "      <th>Age_na</th>\n",
       "      <th>Fare_na</th>\n",
       "    </tr>\n",
       "  </thead>\n",
       "  <tbody>\n",
       "    <tr>\n",
       "      <th>0</th>\n",
       "      <td>1100</td>\n",
       "      <td>1101</td>\n",
       "      <td>3</td>\n",
       "      <td>47</td>\n",
       "      <td>2</td>\n",
       "      <td>0</td>\n",
       "      <td>0</td>\n",
       "      <td>106</td>\n",
       "      <td>3</td>\n",
       "      <td>False</td>\n",
       "      <td>False</td>\n",
       "    </tr>\n",
       "    <tr>\n",
       "      <th>1</th>\n",
       "      <td>1101</td>\n",
       "      <td>1102</td>\n",
       "      <td>3</td>\n",
       "      <td>6</td>\n",
       "      <td>2</td>\n",
       "      <td>0</td>\n",
       "      <td>0</td>\n",
       "      <td>146</td>\n",
       "      <td>3</td>\n",
       "      <td>False</td>\n",
       "      <td>False</td>\n",
       "    </tr>\n",
       "    <tr>\n",
       "      <th>2</th>\n",
       "      <td>1102</td>\n",
       "      <td>1103</td>\n",
       "      <td>3</td>\n",
       "      <td>62</td>\n",
       "      <td>2</td>\n",
       "      <td>0</td>\n",
       "      <td>0</td>\n",
       "      <td>187</td>\n",
       "      <td>3</td>\n",
       "      <td>True</td>\n",
       "      <td>False</td>\n",
       "    </tr>\n",
       "    <tr>\n",
       "      <th>3</th>\n",
       "      <td>1103</td>\n",
       "      <td>1104</td>\n",
       "      <td>2</td>\n",
       "      <td>45</td>\n",
       "      <td>2</td>\n",
       "      <td>0</td>\n",
       "      <td>0</td>\n",
       "      <td>179</td>\n",
       "      <td>3</td>\n",
       "      <td>False</td>\n",
       "      <td>False</td>\n",
       "    </tr>\n",
       "    <tr>\n",
       "      <th>4</th>\n",
       "      <td>1104</td>\n",
       "      <td>1105</td>\n",
       "      <td>2</td>\n",
       "      <td>91</td>\n",
       "      <td>1</td>\n",
       "      <td>1</td>\n",
       "      <td>0</td>\n",
       "      <td>38</td>\n",
       "      <td>3</td>\n",
       "      <td>False</td>\n",
       "      <td>False</td>\n",
       "    </tr>\n",
       "  </tbody>\n",
       "</table>\n",
       "</div>"
      ],
      "text/plain": [
       "   index  PassengerId  Pclass  Name  Sex  SibSp  Parch  Ticket  Embarked  \\\n",
       "0   1100         1101       3    47    2      0      0     106         3   \n",
       "1   1101         1102       3     6    2      0      0     146         3   \n",
       "2   1102         1103       3    62    2      0      0     187         3   \n",
       "3   1103         1104       2    45    2      0      0     179         3   \n",
       "4   1104         1105       2    91    1      1      0      38         3   \n",
       "\n",
       "   Age_na  Fare_na  \n",
       "0   False    False  \n",
       "1   False    False  \n",
       "2    True    False  \n",
       "3   False    False  \n",
       "4   False    False  "
      ]
     },
     "execution_count": 42,
     "metadata": {},
     "output_type": "execute_result"
    }
   ],
   "source": [
    "X_cat_t.head()"
   ]
  },
  {
   "cell_type": "code",
   "execution_count": 43,
   "metadata": {},
   "outputs": [
    {
     "name": "stderr",
     "output_type": "stream",
     "text": [
      "/anaconda3/lib/python3.6/site-packages/pandas/core/frame.py:3697: SettingWithCopyWarning: \n",
      "A value is trying to be set on a copy of a slice from a DataFrame\n",
      "\n",
      "See the caveats in the documentation: http://pandas.pydata.org/pandas-docs/stable/indexing.html#indexing-view-versus-copy\n",
      "  errors=errors)\n"
     ]
    },
    {
     "data": {
      "text/html": [
       "<div>\n",
       "<style scoped>\n",
       "    .dataframe tbody tr th:only-of-type {\n",
       "        vertical-align: middle;\n",
       "    }\n",
       "\n",
       "    .dataframe tbody tr th {\n",
       "        vertical-align: top;\n",
       "    }\n",
       "\n",
       "    .dataframe thead th {\n",
       "        text-align: right;\n",
       "    }\n",
       "</style>\n",
       "<table border=\"1\" class=\"dataframe\">\n",
       "  <thead>\n",
       "    <tr style=\"text-align: right;\">\n",
       "      <th></th>\n",
       "      <th>PassengerId</th>\n",
       "      <th>Pclass</th>\n",
       "      <th>Name</th>\n",
       "      <th>Sex</th>\n",
       "      <th>SibSp</th>\n",
       "      <th>Parch</th>\n",
       "      <th>Ticket</th>\n",
       "      <th>Embarked</th>\n",
       "      <th>Age_na</th>\n",
       "      <th>Fare_na</th>\n",
       "    </tr>\n",
       "  </thead>\n",
       "  <tbody>\n",
       "    <tr>\n",
       "      <th>0</th>\n",
       "      <td>1101</td>\n",
       "      <td>3</td>\n",
       "      <td>47</td>\n",
       "      <td>2</td>\n",
       "      <td>0</td>\n",
       "      <td>0</td>\n",
       "      <td>106</td>\n",
       "      <td>3</td>\n",
       "      <td>False</td>\n",
       "      <td>False</td>\n",
       "    </tr>\n",
       "    <tr>\n",
       "      <th>1</th>\n",
       "      <td>1102</td>\n",
       "      <td>3</td>\n",
       "      <td>6</td>\n",
       "      <td>2</td>\n",
       "      <td>0</td>\n",
       "      <td>0</td>\n",
       "      <td>146</td>\n",
       "      <td>3</td>\n",
       "      <td>False</td>\n",
       "      <td>False</td>\n",
       "    </tr>\n",
       "  </tbody>\n",
       "</table>\n",
       "</div>"
      ],
      "text/plain": [
       "   PassengerId  Pclass  Name  Sex  SibSp  Parch  Ticket  Embarked  Age_na  \\\n",
       "0         1101       3    47    2      0      0     106         3   False   \n",
       "1         1102       3     6    2      0      0     146         3   False   \n",
       "\n",
       "   Fare_na  \n",
       "0    False  \n",
       "1    False  "
      ]
     },
     "execution_count": 43,
     "metadata": {},
     "output_type": "execute_result"
    }
   ],
   "source": [
    "X_cat_t.drop(\"index\",inplace = True,axis = 1)\n",
    "X_cat_t.head(2)"
   ]
  },
  {
   "cell_type": "code",
   "execution_count": 44,
   "metadata": {},
   "outputs": [
    {
     "name": "stdout",
     "output_type": "stream",
     "text": [
      "(209, 12)\n"
     ]
    },
    {
     "data": {
      "text/html": [
       "<div>\n",
       "<style scoped>\n",
       "    .dataframe tbody tr th:only-of-type {\n",
       "        vertical-align: middle;\n",
       "    }\n",
       "\n",
       "    .dataframe tbody tr th {\n",
       "        vertical-align: top;\n",
       "    }\n",
       "\n",
       "    .dataframe thead th {\n",
       "        text-align: right;\n",
       "    }\n",
       "</style>\n",
       "<table border=\"1\" class=\"dataframe\">\n",
       "  <thead>\n",
       "    <tr style=\"text-align: right;\">\n",
       "      <th></th>\n",
       "      <th>PassengerId</th>\n",
       "      <th>Pclass</th>\n",
       "      <th>Name</th>\n",
       "      <th>Sex</th>\n",
       "      <th>SibSp</th>\n",
       "      <th>Parch</th>\n",
       "      <th>Ticket</th>\n",
       "      <th>Embarked</th>\n",
       "      <th>Age_na</th>\n",
       "      <th>Fare_na</th>\n",
       "      <th>Age</th>\n",
       "      <th>Fare</th>\n",
       "    </tr>\n",
       "  </thead>\n",
       "  <tbody>\n",
       "    <tr>\n",
       "      <th>0</th>\n",
       "      <td>1101</td>\n",
       "      <td>3</td>\n",
       "      <td>47</td>\n",
       "      <td>2</td>\n",
       "      <td>0</td>\n",
       "      <td>0</td>\n",
       "      <td>106</td>\n",
       "      <td>3</td>\n",
       "      <td>False</td>\n",
       "      <td>False</td>\n",
       "      <td>-0.343408</td>\n",
       "      <td>-0.489547</td>\n",
       "    </tr>\n",
       "    <tr>\n",
       "      <th>1</th>\n",
       "      <td>1102</td>\n",
       "      <td>3</td>\n",
       "      <td>6</td>\n",
       "      <td>2</td>\n",
       "      <td>0</td>\n",
       "      <td>0</td>\n",
       "      <td>146</td>\n",
       "      <td>3</td>\n",
       "      <td>False</td>\n",
       "      <td>False</td>\n",
       "      <td>0.196729</td>\n",
       "      <td>-0.203944</td>\n",
       "    </tr>\n",
       "  </tbody>\n",
       "</table>\n",
       "</div>"
      ],
      "text/plain": [
       "   PassengerId  Pclass  Name  Sex  SibSp  Parch  Ticket  Embarked  Age_na  \\\n",
       "0         1101       3    47    2      0      0     106         3   False   \n",
       "1         1102       3     6    2      0      0     146         3   False   \n",
       "\n",
       "   Fare_na       Age      Fare  \n",
       "0    False -0.343408 -0.489547  \n",
       "1    False  0.196729 -0.203944  "
      ]
     },
     "execution_count": 44,
     "metadata": {},
     "output_type": "execute_result"
    }
   ],
   "source": [
    "#Merge the two sets of columns\n",
    "df_list_I = [X_cat_t,X_con_sct]\n",
    "X_test_I = pd.concat(df_list_I,axis = 1)\n",
    "print(X_test_I.shape)\n",
    "X_test_I.head(2)"
   ]
  },
  {
   "cell_type": "code",
   "execution_count": 45,
   "metadata": {},
   "outputs": [],
   "source": [
    "#Now we are ready to test it out. Let's load the saved model first.\n",
    "kNN_loaded = joblib.load(f'{my_path}/knn_model/knn_model_final.sav')"
   ]
  },
  {
   "cell_type": "code",
   "execution_count": 46,
   "metadata": {},
   "outputs": [],
   "source": [
    "#Testing...\n",
    "Y_test_pred = kNN_loaded.predict(X_test_I)"
   ]
  },
  {
   "cell_type": "code",
   "execution_count": 47,
   "metadata": {},
   "outputs": [
    {
     "name": "stdout",
     "output_type": "stream",
     "text": [
      "0.5645933014354066 0.0 0.0\n"
     ]
    },
    {
     "name": "stderr",
     "output_type": "stream",
     "text": [
      "/anaconda3/lib/python3.6/site-packages/sklearn/metrics/classification.py:538: RuntimeWarning: invalid value encountered in double_scalars\n",
      "  mcc = cov_ytyp / np.sqrt(cov_ytyt * cov_ypyp)\n",
      "/anaconda3/lib/python3.6/site-packages/sklearn/metrics/classification.py:1135: UndefinedMetricWarning: F-score is ill-defined and being set to 0.0 due to no predicted samples.\n",
      "  'precision', 'predicted', average, warn_for)\n"
     ]
    }
   ],
   "source": [
    "print(accuracy_score(Y_t,Y_test_pred),\n",
    "      matthews_corrcoef(Y_t,Y_test_pred),f1_score(Y_t,Y_test_pred))"
   ]
  },
  {
   "cell_type": "code",
   "execution_count": 48,
   "metadata": {},
   "outputs": [
    {
     "data": {
      "text/plain": [
       "'We are done! Our kNN model is not doing great on this dataset but\\nwe learnt how to properly use machine learning. Soon, we will learn\\nhow to use other algorithms to get better performance'"
      ]
     },
     "execution_count": 48,
     "metadata": {},
     "output_type": "execute_result"
    }
   ],
   "source": [
    "'''We are done! Our kNN model is not doing great on this dataset but\n",
    "we learnt how to properly use machine learning. Soon, we will learn\n",
    "how to use other algorithms to get better performance'''"
   ]
  },
  {
   "cell_type": "code",
   "execution_count": 49,
   "metadata": {},
   "outputs": [
    {
     "name": "stdout",
     "output_type": "stream",
     "text": [
      "(1100, 13)\n",
      "(209, 13)\n"
     ]
    }
   ],
   "source": [
    "'''Write out full train_valid and test dataframes for later use\n",
    "in module III'''\n",
    "X_full[\"Survived\"] = Y\n",
    "X_test_I[\"Survived\"] = Y_t\n",
    "\n",
    "print(X_full.shape)\n",
    "print(X_test_I.shape)"
   ]
  }
 ],
 "metadata": {
  "kernelspec": {
   "display_name": "Python 3",
   "language": "python",
   "name": "python3"
  },
  "language_info": {
   "codemirror_mode": {
    "name": "ipython",
    "version": 3
   },
   "file_extension": ".py",
   "mimetype": "text/x-python",
   "name": "python",
   "nbconvert_exporter": "python",
   "pygments_lexer": "ipython3",
   "version": "3.7.9"
  }
 },
 "nbformat": 4,
 "nbformat_minor": 4
}
