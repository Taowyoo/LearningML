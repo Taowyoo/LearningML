{
  "nbformat": 4,
  "nbformat_minor": 0,
  "metadata": {
    "kernelspec": {
      "display_name": "Python 3",
      "language": "python",
      "name": "python3"
    },
    "language_info": {
      "codemirror_mode": {
        "name": "ipython",
        "version": 3
      },
      "file_extension": ".py",
      "mimetype": "text/x-python",
      "name": "python",
      "nbconvert_exporter": "python",
      "pygments_lexer": "ipython3",
      "version": "3.7.9"
    },
    "colab": {
      "name": "Module_III_code.ipynb",
      "provenance": [],
      "collapsed_sections": [],
      "toc_visible": true
    }
  },
  "cells": [
    {
      "cell_type": "markdown",
      "metadata": {
        "id": "tfGcx1u7pc6b"
      },
      "source": [
        "# I. Module Imports and get data"
      ]
    },
    {
      "cell_type": "code",
      "metadata": {
        "id": "Q0PxW--QyDbT"
      },
      "source": [
        "'''Import all necessary packages...pandas for data munging, \n",
        "sklearn's data preprocessing module, seaborn for data visualization\n",
        "%matplotlib for making any plots show up inside of this notebook.\n",
        "joblib for saving models (serialize/deserialize module). We will discuss\n",
        "each of these packages as we use them for our analysis'''\n",
        "\n",
        "import pandas as pd\n",
        "from pandas.api.types import is_string_dtype,is_numeric_dtype\n",
        "from sklearn import preprocessing\n",
        "from sklearn.neighbors import KNeighborsClassifier  # K-nearest neighbor algorithm\n",
        "from sklearn.metrics import confusion_matrix,accuracy_score,matthews_corrcoef,f1_score  # use to measure how good the model is\n",
        "import joblib \n",
        "\n",
        "# two library for make visualization\n",
        "from matplotlib import pyplot as plt \n",
        "import seaborn as sns\n",
        "\n",
        "%matplotlib inline"
      ],
      "execution_count": null,
      "outputs": []
    },
    {
      "cell_type": "code",
      "metadata": {
        "id": "1LCEzfSGkCCd",
        "outputId": "7663872a-9107-487f-d9a8-e3f3ee6e00ce",
        "colab": {
          "base_uri": "https://localhost:8080/",
          "height": 215
        }
      },
      "source": [
        "# download the csv file\n",
        "import os\n",
        "if(not os.path.exists('Titanic_full.csv')):\n",
        "  !wget https://raw.githubusercontent.com/Taowyoo/LearningML/master/Module%203/Titanic_full.csv"
      ],
      "execution_count": null,
      "outputs": [
        {
          "output_type": "stream",
          "text": [
            "--2020-10-05 23:57:54--  https://raw.githubusercontent.com/Taowyoo/LearningML/master/Module%203/Titanic_full.csv\n",
            "Resolving raw.githubusercontent.com (raw.githubusercontent.com)... 151.101.0.133, 151.101.64.133, 151.101.128.133, ...\n",
            "Connecting to raw.githubusercontent.com (raw.githubusercontent.com)|151.101.0.133|:443... connected.\n",
            "HTTP request sent, awaiting response... 200 OK\n",
            "Length: 91737 (90K) [text/plain]\n",
            "Saving to: ‘Titanic_full.csv’\n",
            "\n",
            "Titanic_full.csv    100%[===================>]  89.59K  --.-KB/s    in 0.03s   \n",
            "\n",
            "2020-10-05 23:57:54 (2.89 MB/s) - ‘Titanic_full.csv’ saved [91737/91737]\n",
            "\n"
          ],
          "name": "stdout"
        }
      ]
    },
    {
      "cell_type": "code",
      "metadata": {
        "id": "VVX3dEfpyDbh",
        "outputId": "a2929661-6e6d-45cb-bcf9-b9f1ed0eced2",
        "colab": {
          "base_uri": "https://localhost:8080/",
          "height": 35
        }
      },
      "source": [
        "#Check the path to the directory where you are currently in\n",
        "%pwd"
      ],
      "execution_count": null,
      "outputs": [
        {
          "output_type": "execute_result",
          "data": {
            "application/vnd.google.colaboratory.intrinsic+json": {
              "type": "string"
            },
            "text/plain": [
              "'/content'"
            ]
          },
          "metadata": {
            "tags": []
          },
          "execution_count": 3
        }
      ]
    },
    {
      "cell_type": "code",
      "metadata": {
        "id": "kPtAvVLpyDbp"
      },
      "source": [
        "'''Define a variable that points to current path. This will let you avoid typing\n",
        "the long path everytime you need to use it'''\n",
        "\n",
        "my_path = %pwd"
      ],
      "execution_count": null,
      "outputs": []
    },
    {
      "cell_type": "code",
      "metadata": {
        "id": "K7j04Xa61Kqw"
      },
      "source": [
        "# mount google drive to store trained models and other files\n",
        "# from google.colab import drive\n",
        "# drive.mount('/content/drive')"
      ],
      "execution_count": null,
      "outputs": []
    },
    {
      "cell_type": "markdown",
      "metadata": {
        "id": "u1wglZdAyDb1"
      },
      "source": [
        "# II. Reading data into the notebook"
      ]
    },
    {
      "cell_type": "code",
      "metadata": {
        "tags": [],
        "id": "60om1zWiyDb3",
        "outputId": "b49db125-1ec4-492f-cbdb-f42c95855029",
        "colab": {
          "base_uri": "https://localhost:8080/",
          "height": 160
        }
      },
      "source": [
        "'''We will use the Titanic dataset, as supplied here (Titanic_full.csv).\n",
        "The same dataset can be downloaded from the Kaggle website. Check the\n",
        "shape and header of the data you just read in as a dataframe. The use of\n",
        "f and {} is specific to the recent versions of Python (3.x). You can as \n",
        "well type the full path here, and that works too!'''\n",
        "\n",
        "my_df = pd.read_csv(f'{my_path}/Titanic_full.csv')\n",
        "print(my_df.shape)\n",
        "my_df.head(3)"
      ],
      "execution_count": null,
      "outputs": [
        {
          "output_type": "stream",
          "text": [
            "(1309, 12)\n"
          ],
          "name": "stdout"
        },
        {
          "output_type": "execute_result",
          "data": {
            "text/html": [
              "<div>\n",
              "<style scoped>\n",
              "    .dataframe tbody tr th:only-of-type {\n",
              "        vertical-align: middle;\n",
              "    }\n",
              "\n",
              "    .dataframe tbody tr th {\n",
              "        vertical-align: top;\n",
              "    }\n",
              "\n",
              "    .dataframe thead th {\n",
              "        text-align: right;\n",
              "    }\n",
              "</style>\n",
              "<table border=\"1\" class=\"dataframe\">\n",
              "  <thead>\n",
              "    <tr style=\"text-align: right;\">\n",
              "      <th></th>\n",
              "      <th>PassengerId</th>\n",
              "      <th>Survived</th>\n",
              "      <th>Pclass</th>\n",
              "      <th>Name</th>\n",
              "      <th>Sex</th>\n",
              "      <th>Age</th>\n",
              "      <th>SibSp</th>\n",
              "      <th>Parch</th>\n",
              "      <th>Ticket</th>\n",
              "      <th>Fare</th>\n",
              "      <th>Cabin</th>\n",
              "      <th>Embarked</th>\n",
              "    </tr>\n",
              "  </thead>\n",
              "  <tbody>\n",
              "    <tr>\n",
              "      <th>0</th>\n",
              "      <td>1</td>\n",
              "      <td>0</td>\n",
              "      <td>3</td>\n",
              "      <td>Braund, Mr. Owen Harris</td>\n",
              "      <td>male</td>\n",
              "      <td>22.0</td>\n",
              "      <td>1</td>\n",
              "      <td>0</td>\n",
              "      <td>A/5 21171</td>\n",
              "      <td>7.2500</td>\n",
              "      <td>NaN</td>\n",
              "      <td>S</td>\n",
              "    </tr>\n",
              "    <tr>\n",
              "      <th>1</th>\n",
              "      <td>2</td>\n",
              "      <td>1</td>\n",
              "      <td>1</td>\n",
              "      <td>Cumings, Mrs. John Bradley (Florence Briggs Th...</td>\n",
              "      <td>female</td>\n",
              "      <td>38.0</td>\n",
              "      <td>1</td>\n",
              "      <td>0</td>\n",
              "      <td>PC 17599</td>\n",
              "      <td>71.2833</td>\n",
              "      <td>C85</td>\n",
              "      <td>C</td>\n",
              "    </tr>\n",
              "    <tr>\n",
              "      <th>2</th>\n",
              "      <td>3</td>\n",
              "      <td>1</td>\n",
              "      <td>3</td>\n",
              "      <td>Heikkinen, Miss. Laina</td>\n",
              "      <td>female</td>\n",
              "      <td>26.0</td>\n",
              "      <td>0</td>\n",
              "      <td>0</td>\n",
              "      <td>STON/O2. 3101282</td>\n",
              "      <td>7.9250</td>\n",
              "      <td>NaN</td>\n",
              "      <td>S</td>\n",
              "    </tr>\n",
              "  </tbody>\n",
              "</table>\n",
              "</div>"
            ],
            "text/plain": [
              "   PassengerId  Survived  Pclass  ...     Fare Cabin  Embarked\n",
              "0            1         0       3  ...   7.2500   NaN         S\n",
              "1            2         1       1  ...  71.2833   C85         C\n",
              "2            3         1       3  ...   7.9250   NaN         S\n",
              "\n",
              "[3 rows x 12 columns]"
            ]
          },
          "metadata": {
            "tags": []
          },
          "execution_count": 6
        }
      ]
    },
    {
      "cell_type": "markdown",
      "metadata": {
        "id": "RUN8t7d6yDcH"
      },
      "source": [
        "# III. Train - Valid- Test Split"
      ]
    },
    {
      "cell_type": "code",
      "metadata": {
        "id": "iPnxjmB9yDcJ",
        "outputId": "973dc141-c645-42db-ddbd-4590da3c30dc",
        "colab": {
          "base_uri": "https://localhost:8080/",
          "height": 35
        }
      },
      "source": [
        "'''As we have seen, it's important to avoid the Texas sharp shooter logical\n",
        "fallacy. So, we plit the data into three sets in a 70-15-15 manner. \n",
        "This means 70% of the data rows go into building or training the model. \n",
        "This 70% is often called a training set. 15% of the data goes into \n",
        "evaluating model performance as you manually change or set the model \n",
        "hyperparameters (e.g. Value of K is a hyperparameter,in K-NN algorithm). \n",
        "This dataset is sometimes called a holdout set or the validation set. \n",
        "Finally, the last 15% of the data is the test set.  This dataset is \n",
        "never \"seen\" by the model for model building or hyperparamter tuning. After\n",
        "hyperparameter tuning and model selection, which we will discuss later,\n",
        "the model's final performance before sneidng it to production, will be\n",
        "evalauted on this test data set.\n",
        "The way the datarows are distributed will depend on the type of problem. \n",
        "Here, assuming the datarows of my_df are randomly arranged, and there's\n",
        "no time component, we will simply simply do the split, using a split \n",
        "function that we define. Also, this 15% split \n",
        "for the test set may change, if the actual test set size is predefined. \n",
        "In any case we will make sure the test set we choose from our dataset \n",
        "is as similar as it can get to the actual data that it will see in \n",
        "production'''\n",
        "\n",
        "#Calculate 15% of 1309. This is about 209 rows of data. \n",
        "#So, 1309 - 209 = 1100 rows of data will remain for the\n",
        "#train and valid sets which we will separate later. 200 rows of data will\n",
        "#go as test set data\n",
        "\n",
        "def mydf_splitter(my_df,num_rows):\n",
        "    return my_df[:num_rows].copy(),my_df[num_rows:]\n",
        "\n",
        "\n",
        "mydf_train_valid,mydf_test = mydf_splitter(my_df,1100)\n",
        "\n",
        "print(mydf_train_valid.shape,mydf_test.shape)\n",
        "\n",
        "#We are going to put away the mydf_test for now. \n",
        "#We will return to it later."
      ],
      "execution_count": null,
      "outputs": [
        {
          "output_type": "stream",
          "text": [
            "(1100, 12) (209, 12)\n"
          ],
          "name": "stdout"
        }
      ]
    },
    {
      "cell_type": "markdown",
      "metadata": {
        "id": "jLWH7SYByDcQ"
      },
      "source": [
        "# IV. Data Pre-processing"
      ]
    },
    {
      "cell_type": "markdown",
      "metadata": {
        "id": "2EGqvuxCD32i"
      },
      "source": [
        "## 1) Pre-process data for validation and trainning"
      ]
    },
    {
      "cell_type": "code",
      "metadata": {
        "id": "VtkqZqtMyDcR",
        "outputId": "b9808438-2c5e-403c-a4f4-6bcb99b6bcd4",
        "colab": {
          "base_uri": "https://localhost:8080/",
          "height": 446
        }
      },
      "source": [
        "''' Deal with missing values. First, calculate the percentage of\n",
        "missing values for every column, and plot them as a bar chart'''\n",
        "\n",
        "null_vals = mydf_train_valid.isnull().sum()/len(mydf_train_valid)*100\n",
        "null_vals = pd.DataFrame(null_vals)\n",
        "null_vals.reset_index(inplace = True)\n",
        "null_vals.columns = [\"Feature\",\"Percent missing\"]\n",
        "plt.figure(figsize = (8,6))\n",
        "plt.xticks(rotation=45)\n",
        "sns.barplot(x = \"Feature\",y =\"Percent missing\",data = null_vals)"
      ],
      "execution_count": null,
      "outputs": [
        {
          "output_type": "execute_result",
          "data": {
            "text/plain": [
              "<matplotlib.axes._subplots.AxesSubplot at 0x7f42ceb8ac18>"
            ]
          },
          "metadata": {
            "tags": []
          },
          "execution_count": 8
        },
        {
          "output_type": "display_data",
          "data": {
            "image/png": "[encoded data removed]",
            "text/plain": [
              "<Figure size 576x432 with 1 Axes>"
            ]
          },
          "metadata": {
            "tags": [],
            "needs_background": "light"
          }
        }
      ]
    },
    {
      "cell_type": "markdown",
      "metadata": {
        "id": "QayNISnoyDcZ"
      },
      "source": [
        "From the above plot, it looks like Cabin has ~80%missing values.\n",
        "It would be meaningless to impute or fill in 80% values, so we drop the column.\n",
        "We will impute age (which has ~ 20% missing, but we'll try to impute),\n",
        "Fare, and Embarked column.These have very little missing values\n",
        "\n",
        "We are going to preprocess this dataset in these steps--\n",
        "\n",
        "1. Convert the entire dataframe to an array of numbers. This itself is going to happen in two steps -- (a) Convert object types and string types to category type (b) map and convert cateogries of numbers.\n",
        "\n",
        "2. Impute or \"fill in\" missing values or NaNs. Here, continuous (e.g. Fare column) and categorical values are treated separately. For filling up missing continuous values, we use the median value of that column, and filling up missing categorical values, we use 0. Also, we add a separate \"marker\" column for both that notes whether a value has been imputed or not.\n",
        "\n",
        "3. Finally, for a lot of the algorithms like k-NN, we scale the data to lie between 0 and 1 with mean zero and unit variance.\n"
      ]
    },
    {
      "cell_type": "code",
      "metadata": {
        "id": "002_IMGeyDca",
        "outputId": "484b44d6-d8d9-4d04-c10c-545efddab7ad",
        "colab": {
          "base_uri": "https://localhost:8080/",
          "height": 129
        }
      },
      "source": [
        "mydf_train_valid_2 = mydf_train_valid.drop(\"Cabin\",axis = 'columns')\n",
        "print(mydf_train_valid_2.shape)\n",
        "mydf_train_valid_2.head(2)"
      ],
      "execution_count": null,
      "outputs": [
        {
          "output_type": "stream",
          "text": [
            "(1100, 11)\n"
          ],
          "name": "stdout"
        },
        {
          "output_type": "execute_result",
          "data": {
            "text/html": [
              "<div>\n",
              "<style scoped>\n",
              "    .dataframe tbody tr th:only-of-type {\n",
              "        vertical-align: middle;\n",
              "    }\n",
              "\n",
              "    .dataframe tbody tr th {\n",
              "        vertical-align: top;\n",
              "    }\n",
              "\n",
              "    .dataframe thead th {\n",
              "        text-align: right;\n",
              "    }\n",
              "</style>\n",
              "<table border=\"1\" class=\"dataframe\">\n",
              "  <thead>\n",
              "    <tr style=\"text-align: right;\">\n",
              "      <th></th>\n",
              "      <th>PassengerId</th>\n",
              "      <th>Survived</th>\n",
              "      <th>Pclass</th>\n",
              "      <th>Name</th>\n",
              "      <th>Sex</th>\n",
              "      <th>Age</th>\n",
              "      <th>SibSp</th>\n",
              "      <th>Parch</th>\n",
              "      <th>Ticket</th>\n",
              "      <th>Fare</th>\n",
              "      <th>Embarked</th>\n",
              "    </tr>\n",
              "  </thead>\n",
              "  <tbody>\n",
              "    <tr>\n",
              "      <th>0</th>\n",
              "      <td>1</td>\n",
              "      <td>0</td>\n",
              "      <td>3</td>\n",
              "      <td>Braund, Mr. Owen Harris</td>\n",
              "      <td>male</td>\n",
              "      <td>22.0</td>\n",
              "      <td>1</td>\n",
              "      <td>0</td>\n",
              "      <td>A/5 21171</td>\n",
              "      <td>7.2500</td>\n",
              "      <td>S</td>\n",
              "    </tr>\n",
              "    <tr>\n",
              "      <th>1</th>\n",
              "      <td>2</td>\n",
              "      <td>1</td>\n",
              "      <td>1</td>\n",
              "      <td>Cumings, Mrs. John Bradley (Florence Briggs Th...</td>\n",
              "      <td>female</td>\n",
              "      <td>38.0</td>\n",
              "      <td>1</td>\n",
              "      <td>0</td>\n",
              "      <td>PC 17599</td>\n",
              "      <td>71.2833</td>\n",
              "      <td>C</td>\n",
              "    </tr>\n",
              "  </tbody>\n",
              "</table>\n",
              "</div>"
            ],
            "text/plain": [
              "   PassengerId  Survived  Pclass  ...     Ticket     Fare  Embarked\n",
              "0            1         0       3  ...  A/5 21171   7.2500         S\n",
              "1            2         1       1  ...   PC 17599  71.2833         C\n",
              "\n",
              "[2 rows x 11 columns]"
            ]
          },
          "metadata": {
            "tags": []
          },
          "execution_count": 9
        }
      ]
    },
    {
      "cell_type": "code",
      "metadata": {
        "id": "BZG60l03yDch",
        "outputId": "938fcf14-8448-4040-8b8e-e7f0cfa44ec6",
        "colab": {
          "base_uri": "https://localhost:8080/",
          "height": 341
        }
      },
      "source": [
        "#Check types of each column with the dataframe info () method\n",
        "mydf_train_valid_2.info()"
      ],
      "execution_count": null,
      "outputs": [
        {
          "output_type": "stream",
          "text": [
            "<class 'pandas.core.frame.DataFrame'>\n",
            "RangeIndex: 1100 entries, 0 to 1099\n",
            "Data columns (total 11 columns):\n",
            " #   Column       Non-Null Count  Dtype  \n",
            "---  ------       --------------  -----  \n",
            " 0   PassengerId  1100 non-null   int64  \n",
            " 1   Survived     1100 non-null   int64  \n",
            " 2   Pclass       1100 non-null   int64  \n",
            " 3   Name         1100 non-null   object \n",
            " 4   Sex          1100 non-null   object \n",
            " 5   Age          881 non-null    float64\n",
            " 6   SibSp        1100 non-null   int64  \n",
            " 7   Parch        1100 non-null   int64  \n",
            " 8   Ticket       1100 non-null   object \n",
            " 9   Fare         1099 non-null   float64\n",
            " 10  Embarked     1098 non-null   object \n",
            "dtypes: float64(2), int64(5), object(4)\n",
            "memory usage: 94.7+ KB\n"
          ],
          "name": "stdout"
        }
      ]
    },
    {
      "cell_type": "code",
      "metadata": {
        "id": "KQRITLsVyDcm"
      },
      "source": [
        "'''You can see that several of the columns or features are \"object\" type\n",
        "These need to be changed to category before we can convert those to \n",
        "mappings and numbers'''\n",
        "#1 (a) Define a function to convert object types and string types to category type\n",
        "\n",
        "def str_to_cat(my_df):\n",
        "    for p,q in my_df.items(): #my_df.items() is a generator in Python\n",
        "        if is_string_dtype(q): \n",
        "            my_df[p] = q.astype('category').cat.as_ordered()\n",
        "    return my_df"
      ],
      "execution_count": null,
      "outputs": []
    },
    {
      "cell_type": "code",
      "metadata": {
        "id": "iI01JF2IyDcs",
        "outputId": "8aa0911b-0f47-4673-f55d-6777559d0773",
        "colab": {
          "base_uri": "https://localhost:8080/",
          "height": 35
        }
      },
      "source": [
        "mydf_train_valid_3 = str_to_cat(mydf_train_valid_2)\n",
        "print()"
      ],
      "execution_count": null,
      "outputs": [
        {
          "output_type": "stream",
          "text": [
            "\n"
          ],
          "name": "stdout"
        }
      ]
    },
    {
      "cell_type": "code",
      "metadata": {
        "id": "iH4tol1uyDcz",
        "outputId": "cfc54626-583e-4632-87f5-820418384bac",
        "colab": {
          "base_uri": "https://localhost:8080/",
          "height": 341
        }
      },
      "source": [
        "#Check dtypes of columns after this operation\n",
        "mydf_train_valid_3.info()"
      ],
      "execution_count": null,
      "outputs": [
        {
          "output_type": "stream",
          "text": [
            "<class 'pandas.core.frame.DataFrame'>\n",
            "RangeIndex: 1100 entries, 0 to 1099\n",
            "Data columns (total 11 columns):\n",
            " #   Column       Non-Null Count  Dtype   \n",
            "---  ------       --------------  -----   \n",
            " 0   PassengerId  1100 non-null   int64   \n",
            " 1   Survived     1100 non-null   int64   \n",
            " 2   Pclass       1100 non-null   int64   \n",
            " 3   Name         1100 non-null   category\n",
            " 4   Sex          1100 non-null   category\n",
            " 5   Age          881 non-null    float64 \n",
            " 6   SibSp        1100 non-null   int64   \n",
            " 7   Parch        1100 non-null   int64   \n",
            " 8   Ticket       1100 non-null   category\n",
            " 9   Fare         1099 non-null   float64 \n",
            " 10  Embarked     1098 non-null   category\n",
            "dtypes: category(4), float64(2), int64(5)\n",
            "memory usage: 161.8 KB\n"
          ],
          "name": "stdout"
        }
      ]
    },
    {
      "cell_type": "code",
      "metadata": {
        "id": "JM04RAugyDc7",
        "outputId": "dca25929-538e-487b-b135-1ac42dc3b7bd",
        "colab": {
          "base_uri": "https://localhost:8080/",
          "height": 53
        }
      },
      "source": [
        "'''Check the cateogry mapping for Embarked and Sex column. We need this\n",
        "later'''\n",
        "print(mydf_train_valid_3.Embarked.cat.categories)\n",
        "print(mydf_train_valid_3.Sex.cat.categories)"
      ],
      "execution_count": null,
      "outputs": [
        {
          "output_type": "stream",
          "text": [
            "Index(['C', 'Q', 'S'], dtype='object')\n",
            "Index(['female', 'male'], dtype='object')\n"
          ],
          "name": "stdout"
        }
      ]
    },
    {
      "cell_type": "markdown",
      "metadata": {
        "id": "h47hpXC1yDdG"
      },
      "source": [
        "All object categories like Name, Sex, and Ticket have been converted to\n",
        "Category dtype !"
      ]
    },
    {
      "cell_type": "code",
      "metadata": {
        "id": "7DNNhLmEyDdI"
      },
      "source": [
        "'''Define impute functions. Impute categorical NaNs with -1, \n",
        "where we add 1 to make it 0. For each \n",
        "continuous variables, we impute missing values with median values of that\n",
        "column, and for every variable\n",
        "where any rows were imputed, add a separate 'imputed or not' column'''\n",
        "\n",
        "def mydf_to_nums(my_df, feature, null_status):\n",
        "    \"\"\"\n",
        "    Parameters\n",
        "    ----------\n",
        "    my_df : source datafram\n",
        "    feature : the series of 'feature'\n",
        "    null_status : column name string\n",
        "    \"\"\"\n",
        "    if not is_numeric_dtype(feature):\n",
        "        my_df[null_status] = feature.cat.codes + 1\n",
        "#         print(f\"convert {null_status} column categories to number\")\n",
        "#         print(my_df.head(20))\n",
        "        \n",
        "def mydf_imputer(my_df, feature, null_status, null_table):\n",
        "    \"\"\"\n",
        "    Parameters\n",
        "    ----------\n",
        "    my_df : source datafram\n",
        "    feature : the series of 'feature'\n",
        "    null_status : column name string\n",
        "    null_table : dict to store computed median\n",
        "    \"\"\"\n",
        "    if is_numeric_dtype(feature):\n",
        "        if pd.isnull(feature).sum() or (null_status in null_table):\n",
        "            my_df[null_status+'_na'] = pd.isnull(feature)\n",
        "#             print(f\"process {null_status+'_na'}\")\n",
        "#             print(my_df.head(20))\n",
        "            filler = null_table[null_status] if null_status in null_table else feature.median()\n",
        "            my_df[null_status] = feature.fillna(filler)\n",
        "#             print(f\"fill NaN in {null_status} with median: {filler}\")\n",
        "#             print(my_df.head(20))\n",
        "            null_table[null_status] = filler\n",
        "#             print(f\"put {null_status}:{filler} into null_table\")\n",
        "#             print(null_table)\n",
        "    return null_table   \n",
        "\n",
        "def mydf_preprocessor(my_df, null_table):\n",
        "    '''null_table  = your table or None'''\n",
        "    \n",
        "    if null_table is None: \n",
        "        null_table = dict()\n",
        "    for p,q in my_df.items(): \n",
        "        null_table = mydf_imputer(my_df, q, p, null_table)\n",
        "    for p,q in my_df.items(): \n",
        "        mydf_to_nums(my_df, q, p)\n",
        "    my_df = pd.get_dummies(my_df, dummy_na = True)\n",
        "    res = [my_df, null_table]\n",
        "    return res"
      ],
      "execution_count": null,
      "outputs": []
    },
    {
      "cell_type": "code",
      "metadata": {
        "id": "u9AReGO0yDdO"
      },
      "source": [
        "mydf_train_valid_4,my_table = mydf_preprocessor(mydf_train_valid_3,null_table = None)"
      ],
      "execution_count": null,
      "outputs": []
    },
    {
      "cell_type": "code",
      "metadata": {
        "id": "T_4KsDHByDdU",
        "outputId": "c2537a58-1c6a-40c8-f6cd-98994b502504",
        "colab": {
          "base_uri": "https://localhost:8080/",
          "height": 142
        }
      },
      "source": [
        "mydf_train_valid_4.head(3)"
      ],
      "execution_count": null,
      "outputs": [
        {
          "output_type": "execute_result",
          "data": {
            "text/html": [
              "<div>\n",
              "<style scoped>\n",
              "    .dataframe tbody tr th:only-of-type {\n",
              "        vertical-align: middle;\n",
              "    }\n",
              "\n",
              "    .dataframe tbody tr th {\n",
              "        vertical-align: top;\n",
              "    }\n",
              "\n",
              "    .dataframe thead th {\n",
              "        text-align: right;\n",
              "    }\n",
              "</style>\n",
              "<table border=\"1\" class=\"dataframe\">\n",
              "  <thead>\n",
              "    <tr style=\"text-align: right;\">\n",
              "      <th></th>\n",
              "      <th>PassengerId</th>\n",
              "      <th>Survived</th>\n",
              "      <th>Pclass</th>\n",
              "      <th>Name</th>\n",
              "      <th>Sex</th>\n",
              "      <th>Age</th>\n",
              "      <th>SibSp</th>\n",
              "      <th>Parch</th>\n",
              "      <th>Ticket</th>\n",
              "      <th>Fare</th>\n",
              "      <th>Embarked</th>\n",
              "      <th>Age_na</th>\n",
              "      <th>Fare_na</th>\n",
              "    </tr>\n",
              "  </thead>\n",
              "  <tbody>\n",
              "    <tr>\n",
              "      <th>0</th>\n",
              "      <td>1</td>\n",
              "      <td>0</td>\n",
              "      <td>3</td>\n",
              "      <td>135</td>\n",
              "      <td>2</td>\n",
              "      <td>22.0</td>\n",
              "      <td>1</td>\n",
              "      <td>0</td>\n",
              "      <td>629</td>\n",
              "      <td>7.2500</td>\n",
              "      <td>3</td>\n",
              "      <td>False</td>\n",
              "      <td>False</td>\n",
              "    </tr>\n",
              "    <tr>\n",
              "      <th>1</th>\n",
              "      <td>2</td>\n",
              "      <td>1</td>\n",
              "      <td>1</td>\n",
              "      <td>245</td>\n",
              "      <td>1</td>\n",
              "      <td>38.0</td>\n",
              "      <td>1</td>\n",
              "      <td>0</td>\n",
              "      <td>713</td>\n",
              "      <td>71.2833</td>\n",
              "      <td>1</td>\n",
              "      <td>False</td>\n",
              "      <td>False</td>\n",
              "    </tr>\n",
              "    <tr>\n",
              "      <th>2</th>\n",
              "      <td>3</td>\n",
              "      <td>1</td>\n",
              "      <td>3</td>\n",
              "      <td>442</td>\n",
              "      <td>1</td>\n",
              "      <td>26.0</td>\n",
              "      <td>0</td>\n",
              "      <td>0</td>\n",
              "      <td>799</td>\n",
              "      <td>7.9250</td>\n",
              "      <td>3</td>\n",
              "      <td>False</td>\n",
              "      <td>False</td>\n",
              "    </tr>\n",
              "  </tbody>\n",
              "</table>\n",
              "</div>"
            ],
            "text/plain": [
              "   PassengerId  Survived  Pclass  Name  ...     Fare  Embarked  Age_na  Fare_na\n",
              "0            1         0       3   135  ...   7.2500         3   False    False\n",
              "1            2         1       1   245  ...  71.2833         1   False    False\n",
              "2            3         1       3   442  ...   7.9250         3   False    False\n",
              "\n",
              "[3 rows x 13 columns]"
            ]
          },
          "metadata": {
            "tags": []
          },
          "execution_count": 17
        }
      ]
    },
    {
      "cell_type": "code",
      "metadata": {
        "id": "hLSV_9uwyDda",
        "outputId": "3d4b778f-3913-4eb0-cd62-915ba26844b9",
        "colab": {
          "base_uri": "https://localhost:8080/",
          "height": 35
        }
      },
      "source": [
        "'''Please store the null_table, category mapping separately.\n",
        "We will need to process the test dataset using these values'''\n",
        "my_table"
      ],
      "execution_count": null,
      "outputs": [
        {
          "output_type": "execute_result",
          "data": {
            "text/plain": [
              "{'Age': 28.0, 'Fare': 14.4583}"
            ]
          },
          "metadata": {
            "tags": []
          },
          "execution_count": 18
        }
      ]
    },
    {
      "cell_type": "code",
      "metadata": {
        "id": "9A6IXQxMyDdh",
        "outputId": "3570dd34-0622-42ad-e179-7eb67b6286bb",
        "colab": {
          "base_uri": "https://localhost:8080/",
          "height": 35
        }
      },
      "source": [
        "'''Now, let's separate the X and Y variables (vertical split of the \n",
        "dataframe). Here the Y column is the variable we are trying to predict, \n",
        "survived or not(0 = No, 1 = Yes)'''\n",
        "\n",
        "Y = mydf_train_valid_4[\"Survived\"]\n",
        "X = mydf_train_valid_4.drop([\"Survived\"],axis = 1)\n",
        "\n",
        "print(X.shape,Y.shape)"
      ],
      "execution_count": null,
      "outputs": [
        {
          "output_type": "stream",
          "text": [
            "(1100, 12) (1100,)\n"
          ],
          "name": "stdout"
        }
      ]
    },
    {
      "cell_type": "code",
      "metadata": {
        "id": "ZjSRDsnAyDdq",
        "outputId": "d90f641f-a137-49d4-8290-120c890b9205",
        "colab": {
          "base_uri": "https://localhost:8080/",
          "height": 35
        }
      },
      "source": [
        "'''Note that the different continuous variable columns of this dataframe \n",
        "have numbers in different ranges. For example, the Fare and age columns. \n",
        "For some machine learning algorithms like Decision Trees and \n",
        "their ensembles (Random Forests, for example) the above X and Y\n",
        "can be directly used as input. However, for a lot of other ML algorithms \n",
        "like K nearest neighbors (KNN), we need to scale the continuous variables \n",
        "so that their values are mapped to a number between 0 and 1. \n",
        "Let's split this dataframe into continuous variable \n",
        "columns and those with categorical variables. We will leave \n",
        "the categorical variables untouched because their \n",
        "values are treated as different levels and its kind of meaningless to\n",
        "scale them'''\n",
        "\n",
        "X_cat = X[['PassengerId', 'Pclass', 'Name', 'Sex', 'SibSp', 'Parch',\n",
        "       'Ticket', 'Embarked', 'Age_na', 'Fare_na']]\n",
        "X_con = X.drop(X_cat,axis = 1)\n",
        "print(X_cat.shape,X_con.shape)"
      ],
      "execution_count": null,
      "outputs": [
        {
          "output_type": "stream",
          "text": [
            "(1100, 10) (1100, 2)\n"
          ],
          "name": "stdout"
        }
      ]
    },
    {
      "cell_type": "code",
      "metadata": {
        "id": "bxL2yhi1yDdz",
        "outputId": "3cdd24ff-0148-4b6b-af2e-a3a23343bc79",
        "colab": {
          "base_uri": "https://localhost:8080/",
          "height": 129
        }
      },
      "source": [
        "'''Scale the continuous variables. To standardize (includes scaling), \n",
        "we subtract mean of that column from every value, then divide the results \n",
        "by the variable's standard deviation. There are different ways to \n",
        "standardize. Please see preprocessing under scikit-leanr page'''\n",
        "\n",
        "scaler = preprocessing.StandardScaler().fit(X_con)\n",
        "X_con_sc = pd.DataFrame(scaler.transform(X_con))\n",
        "X_con_sc.columns = [\"Age\",\"Fare\"]\n",
        "print(X_con_sc.shape)\n",
        "X_con_sc.head(2)"
      ],
      "execution_count": null,
      "outputs": [
        {
          "output_type": "stream",
          "text": [
            "(1100, 2)\n"
          ],
          "name": "stdout"
        },
        {
          "output_type": "execute_result",
          "data": {
            "text/html": [
              "<div>\n",
              "<style scoped>\n",
              "    .dataframe tbody tr th:only-of-type {\n",
              "        vertical-align: middle;\n",
              "    }\n",
              "\n",
              "    .dataframe tbody tr th {\n",
              "        vertical-align: top;\n",
              "    }\n",
              "\n",
              "    .dataframe thead th {\n",
              "        text-align: right;\n",
              "    }\n",
              "</style>\n",
              "<table border=\"1\" class=\"dataframe\">\n",
              "  <thead>\n",
              "    <tr style=\"text-align: right;\">\n",
              "      <th></th>\n",
              "      <th>Age</th>\n",
              "      <th>Fare</th>\n",
              "    </tr>\n",
              "  </thead>\n",
              "  <tbody>\n",
              "    <tr>\n",
              "      <th>0</th>\n",
              "      <td>-0.574896</td>\n",
              "      <td>-0.502155</td>\n",
              "    </tr>\n",
              "    <tr>\n",
              "      <th>1</th>\n",
              "      <td>0.659705</td>\n",
              "      <td>0.747957</td>\n",
              "    </tr>\n",
              "  </tbody>\n",
              "</table>\n",
              "</div>"
            ],
            "text/plain": [
              "        Age      Fare\n",
              "0 -0.574896 -0.502155\n",
              "1  0.659705  0.747957"
            ]
          },
          "metadata": {
            "tags": []
          },
          "execution_count": 21
        }
      ]
    },
    {
      "cell_type": "code",
      "metadata": {
        "id": "ScTaSdJ5yDd5",
        "outputId": "710f469a-ac49-44c0-8018-152450219cd7",
        "colab": {
          "base_uri": "https://localhost:8080/",
          "height": 129
        }
      },
      "source": [
        "'''Store this scaler variable or its mean and SD, by pickling or something;\n",
        "we need to use the same mean and SD scaler later while pre-processing \n",
        "the test set. Now, let's join the cateogrical and scaled continuous \n",
        "variables, back together into one dataframe'''\n",
        "\n",
        "df_list = [X_cat,X_con_sc]\n",
        "X_full = pd.concat(df_list,axis = 1)\n",
        "print(X_full.shape)\n",
        "X_full.head(2)"
      ],
      "execution_count": null,
      "outputs": [
        {
          "output_type": "stream",
          "text": [
            "(1100, 12)\n"
          ],
          "name": "stdout"
        },
        {
          "output_type": "execute_result",
          "data": {
            "text/html": [
              "<div>\n",
              "<style scoped>\n",
              "    .dataframe tbody tr th:only-of-type {\n",
              "        vertical-align: middle;\n",
              "    }\n",
              "\n",
              "    .dataframe tbody tr th {\n",
              "        vertical-align: top;\n",
              "    }\n",
              "\n",
              "    .dataframe thead th {\n",
              "        text-align: right;\n",
              "    }\n",
              "</style>\n",
              "<table border=\"1\" class=\"dataframe\">\n",
              "  <thead>\n",
              "    <tr style=\"text-align: right;\">\n",
              "      <th></th>\n",
              "      <th>PassengerId</th>\n",
              "      <th>Pclass</th>\n",
              "      <th>Name</th>\n",
              "      <th>Sex</th>\n",
              "      <th>SibSp</th>\n",
              "      <th>Parch</th>\n",
              "      <th>Ticket</th>\n",
              "      <th>Embarked</th>\n",
              "      <th>Age_na</th>\n",
              "      <th>Fare_na</th>\n",
              "      <th>Age</th>\n",
              "      <th>Fare</th>\n",
              "    </tr>\n",
              "  </thead>\n",
              "  <tbody>\n",
              "    <tr>\n",
              "      <th>0</th>\n",
              "      <td>1</td>\n",
              "      <td>3</td>\n",
              "      <td>135</td>\n",
              "      <td>2</td>\n",
              "      <td>1</td>\n",
              "      <td>0</td>\n",
              "      <td>629</td>\n",
              "      <td>3</td>\n",
              "      <td>False</td>\n",
              "      <td>False</td>\n",
              "      <td>-0.574896</td>\n",
              "      <td>-0.502155</td>\n",
              "    </tr>\n",
              "    <tr>\n",
              "      <th>1</th>\n",
              "      <td>2</td>\n",
              "      <td>1</td>\n",
              "      <td>245</td>\n",
              "      <td>1</td>\n",
              "      <td>1</td>\n",
              "      <td>0</td>\n",
              "      <td>713</td>\n",
              "      <td>1</td>\n",
              "      <td>False</td>\n",
              "      <td>False</td>\n",
              "      <td>0.659705</td>\n",
              "      <td>0.747957</td>\n",
              "    </tr>\n",
              "  </tbody>\n",
              "</table>\n",
              "</div>"
            ],
            "text/plain": [
              "   PassengerId  Pclass  Name  Sex  ...  Age_na  Fare_na       Age      Fare\n",
              "0            1       3   135    2  ...   False    False -0.574896 -0.502155\n",
              "1            2       1   245    1  ...   False    False  0.659705  0.747957\n",
              "\n",
              "[2 rows x 12 columns]"
            ]
          },
          "metadata": {
            "tags": []
          },
          "execution_count": 22
        }
      ]
    },
    {
      "cell_type": "markdown",
      "metadata": {
        "id": "mi98m1jelxlm"
      },
      "source": [
        ""
      ]
    },
    {
      "cell_type": "code",
      "metadata": {
        "id": "9SE50JG4yDeA",
        "outputId": "02c9a520-6e24-470e-a303-08dc5f857355",
        "colab": {
          "base_uri": "https://localhost:8080/",
          "height": 35
        }
      },
      "source": [
        "'''Then, split into train and valid sets for model building \n",
        "and hyperparameter tuning, respectively !Remember, we need to \n",
        "split (horizontally the rows) X_full into train and validation sets.\n",
        "We use the dataframe splitter function we defined previously.\n",
        "Strictly for later use in another module, merge X and Y and store.\n",
        "Save it as train data. Reason explained in module III'''\n",
        "\n",
        "X_train,X_valid = mydf_splitter(X_full,900)\n",
        "Y_train,Y_valid = mydf_splitter(Y,900)\n",
        "\n",
        "print(X_train.shape,X_valid.shape,Y_train.shape,Y_valid.shape)\n"
      ],
      "execution_count": null,
      "outputs": [
        {
          "output_type": "stream",
          "text": [
            "(900, 12) (200, 12) (900,) (200,)\n"
          ],
          "name": "stdout"
        }
      ]
    },
    {
      "cell_type": "code",
      "metadata": {
        "id": "2xZYOwLvyDef"
      },
      "source": [
        "# creat a function to help show Plot confusion matrix easily\n",
        "from sklearn.metrics import confusion_matrix\n",
        "\n",
        "def showConfusionMat(Y_v, Y_p):\n",
        "  to_show_mat = confusion_matrix(Y_v,Y_p)\n",
        "  to_show_df = pd.DataFrame(to_show_mat)\n",
        "  plt.figure(figsize = (8,8))\n",
        "  sns.heatmap(to_show_df, xticklabels = [\"Unlucky\",\"Survived\"],\n",
        "              yticklabels = [\"Unlucky\",\"Survived\"],annot = True)"
      ],
      "execution_count": null,
      "outputs": []
    },
    {
      "cell_type": "code",
      "metadata": {
        "id": "eSNTEddDyDem"
      },
      "source": [
        "# create a function to help compute and show score\n",
        "def calculateScore(Y_v, Y_p):\n",
        "  acc = accuracy_score(Y_v,Y_p)\n",
        "  matt_cor = matthews_corrcoef(Y_v,Y_p)\n",
        "  f1 = f1_score(Y_v,Y_p)\n",
        "  print(f'accuracy_score = {acc}')\n",
        "  print(f'matthews_corrcoef = {matt_cor}')\n",
        "  print(f'f1_score = {f1}')\n",
        "  return acc, matt_cor, f1\n"
      ],
      "execution_count": null,
      "outputs": []
    },
    {
      "cell_type": "markdown",
      "metadata": {
        "id": "uqO8dsvpyDfV"
      },
      "source": [
        "## 2) Pre-process data for testing"
      ]
    },
    {
      "cell_type": "code",
      "metadata": {
        "id": "I8ackYmmyDfW",
        "outputId": "b949f0dd-ac99-4b8b-9806-db4ddae525ac",
        "colab": {
          "base_uri": "https://localhost:8080/",
          "height": 160
        }
      },
      "source": [
        "'''Before we can apply this on the test set, we\n",
        "need to pre-process the test set in exactly the same way we did the\n",
        "train_valid set !!!'''\n",
        "\n",
        "print(mydf_test.shape)\n",
        "mydf_test.head(3)\n"
      ],
      "execution_count": null,
      "outputs": [
        {
          "output_type": "stream",
          "text": [
            "(209, 12)\n"
          ],
          "name": "stdout"
        },
        {
          "output_type": "execute_result",
          "data": {
            "text/html": [
              "<div>\n",
              "<style scoped>\n",
              "    .dataframe tbody tr th:only-of-type {\n",
              "        vertical-align: middle;\n",
              "    }\n",
              "\n",
              "    .dataframe tbody tr th {\n",
              "        vertical-align: top;\n",
              "    }\n",
              "\n",
              "    .dataframe thead th {\n",
              "        text-align: right;\n",
              "    }\n",
              "</style>\n",
              "<table border=\"1\" class=\"dataframe\">\n",
              "  <thead>\n",
              "    <tr style=\"text-align: right;\">\n",
              "      <th></th>\n",
              "      <th>PassengerId</th>\n",
              "      <th>Survived</th>\n",
              "      <th>Pclass</th>\n",
              "      <th>Name</th>\n",
              "      <th>Sex</th>\n",
              "      <th>Age</th>\n",
              "      <th>SibSp</th>\n",
              "      <th>Parch</th>\n",
              "      <th>Ticket</th>\n",
              "      <th>Fare</th>\n",
              "      <th>Cabin</th>\n",
              "      <th>Embarked</th>\n",
              "    </tr>\n",
              "  </thead>\n",
              "  <tbody>\n",
              "    <tr>\n",
              "      <th>1100</th>\n",
              "      <td>1101</td>\n",
              "      <td>1</td>\n",
              "      <td>3</td>\n",
              "      <td>Delalic, Mr. Redjo</td>\n",
              "      <td>male</td>\n",
              "      <td>25.0</td>\n",
              "      <td>0</td>\n",
              "      <td>0</td>\n",
              "      <td>349250</td>\n",
              "      <td>7.8958</td>\n",
              "      <td>NaN</td>\n",
              "      <td>S</td>\n",
              "    </tr>\n",
              "    <tr>\n",
              "      <th>1101</th>\n",
              "      <td>1102</td>\n",
              "      <td>0</td>\n",
              "      <td>3</td>\n",
              "      <td>Andersen, Mr. Albert Karvin</td>\n",
              "      <td>male</td>\n",
              "      <td>32.0</td>\n",
              "      <td>0</td>\n",
              "      <td>0</td>\n",
              "      <td>C 4001</td>\n",
              "      <td>22.5250</td>\n",
              "      <td>NaN</td>\n",
              "      <td>S</td>\n",
              "    </tr>\n",
              "    <tr>\n",
              "      <th>1102</th>\n",
              "      <td>1103</td>\n",
              "      <td>1</td>\n",
              "      <td>3</td>\n",
              "      <td>Finoli, Mr. Luigi</td>\n",
              "      <td>male</td>\n",
              "      <td>NaN</td>\n",
              "      <td>0</td>\n",
              "      <td>0</td>\n",
              "      <td>SOTON/O.Q. 3101308</td>\n",
              "      <td>7.0500</td>\n",
              "      <td>NaN</td>\n",
              "      <td>S</td>\n",
              "    </tr>\n",
              "  </tbody>\n",
              "</table>\n",
              "</div>"
            ],
            "text/plain": [
              "      PassengerId  Survived  Pclass  ...     Fare Cabin  Embarked\n",
              "1100         1101         1       3  ...   7.8958   NaN         S\n",
              "1101         1102         0       3  ...  22.5250   NaN         S\n",
              "1102         1103         1       3  ...   7.0500   NaN         S\n",
              "\n",
              "[3 rows x 12 columns]"
            ]
          },
          "metadata": {
            "tags": []
          },
          "execution_count": 26
        }
      ]
    },
    {
      "cell_type": "code",
      "metadata": {
        "id": "4rLFzyDjyDfb",
        "outputId": "796c53c8-2a51-4538-c03a-b10389cf93c9",
        "colab": {
          "base_uri": "https://localhost:8080/",
          "height": 160
        }
      },
      "source": [
        "#get rid of the \"cabin\" column as we did before with the train_valid set\n",
        "mydf_test1 = mydf_test.drop(\"Cabin\",axis = 1)\n",
        "print(mydf_test1.shape)\n",
        "mydf_test1.head(3)"
      ],
      "execution_count": null,
      "outputs": [
        {
          "output_type": "stream",
          "text": [
            "(209, 11)\n"
          ],
          "name": "stdout"
        },
        {
          "output_type": "execute_result",
          "data": {
            "text/html": [
              "<div>\n",
              "<style scoped>\n",
              "    .dataframe tbody tr th:only-of-type {\n",
              "        vertical-align: middle;\n",
              "    }\n",
              "\n",
              "    .dataframe tbody tr th {\n",
              "        vertical-align: top;\n",
              "    }\n",
              "\n",
              "    .dataframe thead th {\n",
              "        text-align: right;\n",
              "    }\n",
              "</style>\n",
              "<table border=\"1\" class=\"dataframe\">\n",
              "  <thead>\n",
              "    <tr style=\"text-align: right;\">\n",
              "      <th></th>\n",
              "      <th>PassengerId</th>\n",
              "      <th>Survived</th>\n",
              "      <th>Pclass</th>\n",
              "      <th>Name</th>\n",
              "      <th>Sex</th>\n",
              "      <th>Age</th>\n",
              "      <th>SibSp</th>\n",
              "      <th>Parch</th>\n",
              "      <th>Ticket</th>\n",
              "      <th>Fare</th>\n",
              "      <th>Embarked</th>\n",
              "    </tr>\n",
              "  </thead>\n",
              "  <tbody>\n",
              "    <tr>\n",
              "      <th>1100</th>\n",
              "      <td>1101</td>\n",
              "      <td>1</td>\n",
              "      <td>3</td>\n",
              "      <td>Delalic, Mr. Redjo</td>\n",
              "      <td>male</td>\n",
              "      <td>25.0</td>\n",
              "      <td>0</td>\n",
              "      <td>0</td>\n",
              "      <td>349250</td>\n",
              "      <td>7.8958</td>\n",
              "      <td>S</td>\n",
              "    </tr>\n",
              "    <tr>\n",
              "      <th>1101</th>\n",
              "      <td>1102</td>\n",
              "      <td>0</td>\n",
              "      <td>3</td>\n",
              "      <td>Andersen, Mr. Albert Karvin</td>\n",
              "      <td>male</td>\n",
              "      <td>32.0</td>\n",
              "      <td>0</td>\n",
              "      <td>0</td>\n",
              "      <td>C 4001</td>\n",
              "      <td>22.5250</td>\n",
              "      <td>S</td>\n",
              "    </tr>\n",
              "    <tr>\n",
              "      <th>1102</th>\n",
              "      <td>1103</td>\n",
              "      <td>1</td>\n",
              "      <td>3</td>\n",
              "      <td>Finoli, Mr. Luigi</td>\n",
              "      <td>male</td>\n",
              "      <td>NaN</td>\n",
              "      <td>0</td>\n",
              "      <td>0</td>\n",
              "      <td>SOTON/O.Q. 3101308</td>\n",
              "      <td>7.0500</td>\n",
              "      <td>S</td>\n",
              "    </tr>\n",
              "  </tbody>\n",
              "</table>\n",
              "</div>"
            ],
            "text/plain": [
              "      PassengerId  Survived  Pclass  ...              Ticket     Fare  Embarked\n",
              "1100         1101         1       3  ...              349250   7.8958         S\n",
              "1101         1102         0       3  ...              C 4001  22.5250         S\n",
              "1102         1103         1       3  ...  SOTON/O.Q. 3101308   7.0500         S\n",
              "\n",
              "[3 rows x 11 columns]"
            ]
          },
          "metadata": {
            "tags": []
          },
          "execution_count": 27
        }
      ]
    },
    {
      "cell_type": "code",
      "metadata": {
        "id": "KYmncifdyDfj",
        "outputId": "d87c754c-fa94-42be-a571-713412437620",
        "colab": {
          "base_uri": "https://localhost:8080/",
          "height": 35
        }
      },
      "source": [
        "'''Make sure the category codes for train and test sets are the same as \n",
        "the ones we used previously! Here, we have coded, Name, Sex, Ticket and \n",
        "embarked. Because Name and Ticket ids will not be repeated, \n",
        "we will check Sex and embarked. Checking category codes for the test set...'''\n",
        "\n",
        "mydf_test2 = str_to_cat(mydf_test1)\n",
        "mydf_test2.Sex.cat.categories"
      ],
      "execution_count": null,
      "outputs": [
        {
          "output_type": "execute_result",
          "data": {
            "text/plain": [
              "Index(['female', 'male'], dtype='object')"
            ]
          },
          "metadata": {
            "tags": []
          },
          "execution_count": 28
        }
      ]
    },
    {
      "cell_type": "code",
      "metadata": {
        "id": "0jYZMyTQyDfr",
        "outputId": "49d82c52-cb58-4f99-a01f-24d6af9e1bc9",
        "colab": {
          "base_uri": "https://localhost:8080/",
          "height": 35
        }
      },
      "source": [
        "#Check for the Embarked column\n",
        "mydf_test2.Embarked.cat.categories"
      ],
      "execution_count": null,
      "outputs": [
        {
          "output_type": "execute_result",
          "data": {
            "text/plain": [
              "Index(['C', 'Q', 'S'], dtype='object')"
            ]
          },
          "metadata": {
            "tags": []
          },
          "execution_count": 29
        }
      ]
    },
    {
      "cell_type": "code",
      "metadata": {
        "id": "oNXIE19QyDfw",
        "outputId": "85bc69b4-f8c5-438e-bf4b-ee8f58bd81de",
        "colab": {
          "base_uri": "https://localhost:8080/",
          "height": 160
        }
      },
      "source": [
        "#Cool, this means the category codes are the same. We can proceed.\n",
        "#Make sure you use the same impute values of median.\n",
        "mydf_test3,my_table1 = mydf_preprocessor(mydf_test2,null_table = my_table)\n",
        "print(mydf_test3.shape)\n",
        "mydf_test3.head(3)"
      ],
      "execution_count": null,
      "outputs": [
        {
          "output_type": "stream",
          "text": [
            "(209, 13)\n"
          ],
          "name": "stdout"
        },
        {
          "output_type": "execute_result",
          "data": {
            "text/html": [
              "<div>\n",
              "<style scoped>\n",
              "    .dataframe tbody tr th:only-of-type {\n",
              "        vertical-align: middle;\n",
              "    }\n",
              "\n",
              "    .dataframe tbody tr th {\n",
              "        vertical-align: top;\n",
              "    }\n",
              "\n",
              "    .dataframe thead th {\n",
              "        text-align: right;\n",
              "    }\n",
              "</style>\n",
              "<table border=\"1\" class=\"dataframe\">\n",
              "  <thead>\n",
              "    <tr style=\"text-align: right;\">\n",
              "      <th></th>\n",
              "      <th>PassengerId</th>\n",
              "      <th>Survived</th>\n",
              "      <th>Pclass</th>\n",
              "      <th>Name</th>\n",
              "      <th>Sex</th>\n",
              "      <th>Age</th>\n",
              "      <th>SibSp</th>\n",
              "      <th>Parch</th>\n",
              "      <th>Ticket</th>\n",
              "      <th>Fare</th>\n",
              "      <th>Embarked</th>\n",
              "      <th>Age_na</th>\n",
              "      <th>Fare_na</th>\n",
              "    </tr>\n",
              "  </thead>\n",
              "  <tbody>\n",
              "    <tr>\n",
              "      <th>1100</th>\n",
              "      <td>1101</td>\n",
              "      <td>1</td>\n",
              "      <td>3</td>\n",
              "      <td>47</td>\n",
              "      <td>2</td>\n",
              "      <td>25.0</td>\n",
              "      <td>0</td>\n",
              "      <td>0</td>\n",
              "      <td>106</td>\n",
              "      <td>7.8958</td>\n",
              "      <td>3</td>\n",
              "      <td>False</td>\n",
              "      <td>False</td>\n",
              "    </tr>\n",
              "    <tr>\n",
              "      <th>1101</th>\n",
              "      <td>1102</td>\n",
              "      <td>0</td>\n",
              "      <td>3</td>\n",
              "      <td>6</td>\n",
              "      <td>2</td>\n",
              "      <td>32.0</td>\n",
              "      <td>0</td>\n",
              "      <td>0</td>\n",
              "      <td>146</td>\n",
              "      <td>22.5250</td>\n",
              "      <td>3</td>\n",
              "      <td>False</td>\n",
              "      <td>False</td>\n",
              "    </tr>\n",
              "    <tr>\n",
              "      <th>1102</th>\n",
              "      <td>1103</td>\n",
              "      <td>1</td>\n",
              "      <td>3</td>\n",
              "      <td>62</td>\n",
              "      <td>2</td>\n",
              "      <td>28.0</td>\n",
              "      <td>0</td>\n",
              "      <td>0</td>\n",
              "      <td>187</td>\n",
              "      <td>7.0500</td>\n",
              "      <td>3</td>\n",
              "      <td>True</td>\n",
              "      <td>False</td>\n",
              "    </tr>\n",
              "  </tbody>\n",
              "</table>\n",
              "</div>"
            ],
            "text/plain": [
              "      PassengerId  Survived  Pclass  Name  ...     Fare  Embarked  Age_na  Fare_na\n",
              "1100         1101         1       3    47  ...   7.8958         3   False    False\n",
              "1101         1102         0       3     6  ...  22.5250         3   False    False\n",
              "1102         1103         1       3    62  ...   7.0500         3    True    False\n",
              "\n",
              "[3 rows x 13 columns]"
            ]
          },
          "metadata": {
            "tags": []
          },
          "execution_count": 30
        }
      ]
    },
    {
      "cell_type": "code",
      "metadata": {
        "id": "weLsFrtHyDf1",
        "outputId": "0f873ec0-2f41-495c-dfb1-59a63ef0eea8",
        "colab": {
          "base_uri": "https://localhost:8080/",
          "height": 35
        }
      },
      "source": [
        "my_table1"
      ],
      "execution_count": null,
      "outputs": [
        {
          "output_type": "execute_result",
          "data": {
            "text/plain": [
              "{'Age': 28.0, 'Fare': 14.4583}"
            ]
          },
          "metadata": {
            "tags": []
          },
          "execution_count": 31
        }
      ]
    },
    {
      "cell_type": "code",
      "metadata": {
        "id": "4y4IKRkzyDf6"
      },
      "source": [
        "# Now, let's split out the X and Y variables (vertical split of the dataframe)\n",
        "#Remember we did this previously!\n",
        "Y_t = mydf_test3[\"Survived\"]\n",
        "X_t = mydf_test3.drop([\"Survived\"],axis = 1)\n"
      ],
      "execution_count": null,
      "outputs": []
    },
    {
      "cell_type": "code",
      "metadata": {
        "id": "dMhfCW2TyDgA",
        "outputId": "4df6ae03-037a-4656-c7a2-7382ff62e9cc",
        "colab": {
          "base_uri": "https://localhost:8080/",
          "height": 35
        }
      },
      "source": [
        "#Separate continuous and categorical variables/columns for scaling\n",
        "\n",
        "X_cat_t = X_t[['PassengerId', 'Pclass', 'Name', 'Sex', 'SibSp', 'Parch',\n",
        "       'Ticket', 'Embarked', 'Age_na', 'Fare_na']]\n",
        "X_con_t = X_t.drop(X_cat_t,axis = 1)\n",
        "print(X_cat_t.shape,X_con_t.shape)"
      ],
      "execution_count": null,
      "outputs": [
        {
          "output_type": "stream",
          "text": [
            "(209, 10) (209, 2)\n"
          ],
          "name": "stdout"
        }
      ]
    },
    {
      "cell_type": "code",
      "metadata": {
        "id": "uXsV2YY9yDgE",
        "outputId": "2b1c73ca-e00a-4670-c6f7-aa6c8e69003e",
        "colab": {
          "base_uri": "https://localhost:8080/",
          "height": 129
        }
      },
      "source": [
        "'''Scale using the training set mean and SD. This is already captured in\n",
        "the scaler object we made. Else, save that in a joblib dump too to reload'''\n",
        "\n",
        "X_con_sct = pd.DataFrame(scaler.transform(X_con_t))\n",
        "X_con_sct.columns = [\"Age\",\"Fare\"]\n",
        "print(X_con_sct.shape)\n",
        "X_con_sct.head(2)\n"
      ],
      "execution_count": null,
      "outputs": [
        {
          "output_type": "stream",
          "text": [
            "(209, 2)\n"
          ],
          "name": "stdout"
        },
        {
          "output_type": "execute_result",
          "data": {
            "text/html": [
              "<div>\n",
              "<style scoped>\n",
              "    .dataframe tbody tr th:only-of-type {\n",
              "        vertical-align: middle;\n",
              "    }\n",
              "\n",
              "    .dataframe tbody tr th {\n",
              "        vertical-align: top;\n",
              "    }\n",
              "\n",
              "    .dataframe thead th {\n",
              "        text-align: right;\n",
              "    }\n",
              "</style>\n",
              "<table border=\"1\" class=\"dataframe\">\n",
              "  <thead>\n",
              "    <tr style=\"text-align: right;\">\n",
              "      <th></th>\n",
              "      <th>Age</th>\n",
              "      <th>Fare</th>\n",
              "    </tr>\n",
              "  </thead>\n",
              "  <tbody>\n",
              "    <tr>\n",
              "      <th>0</th>\n",
              "      <td>-0.343408</td>\n",
              "      <td>-0.489547</td>\n",
              "    </tr>\n",
              "    <tr>\n",
              "      <th>1</th>\n",
              "      <td>0.196729</td>\n",
              "      <td>-0.203944</td>\n",
              "    </tr>\n",
              "  </tbody>\n",
              "</table>\n",
              "</div>"
            ],
            "text/plain": [
              "        Age      Fare\n",
              "0 -0.343408 -0.489547\n",
              "1  0.196729 -0.203944"
            ]
          },
          "metadata": {
            "tags": []
          },
          "execution_count": 34
        }
      ]
    },
    {
      "cell_type": "code",
      "metadata": {
        "id": "oTYgbHXvyDgK",
        "outputId": "ed34f8af-f181-458c-c71e-476b5bd998c5",
        "colab": {
          "base_uri": "https://localhost:8080/",
          "height": 35
        }
      },
      "source": [
        "print(X_cat_t.shape,X_con_sct.shape)"
      ],
      "execution_count": null,
      "outputs": [
        {
          "output_type": "stream",
          "text": [
            "(209, 10) (209, 2)\n"
          ],
          "name": "stdout"
        }
      ]
    },
    {
      "cell_type": "code",
      "metadata": {
        "id": "qQd15BcWyDgS"
      },
      "source": [
        "#Re-index before merging\n",
        "X_cat_t.reset_index(inplace = True,drop = False)"
      ],
      "execution_count": null,
      "outputs": []
    },
    {
      "cell_type": "code",
      "metadata": {
        "id": "jvOpbTVeyDgX",
        "outputId": "038e0e9d-35af-49f5-bfc6-119d84dd5530",
        "colab": {
          "base_uri": "https://localhost:8080/",
          "height": 204
        }
      },
      "source": [
        "X_cat_t.head()"
      ],
      "execution_count": null,
      "outputs": [
        {
          "output_type": "execute_result",
          "data": {
            "text/html": [
              "<div>\n",
              "<style scoped>\n",
              "    .dataframe tbody tr th:only-of-type {\n",
              "        vertical-align: middle;\n",
              "    }\n",
              "\n",
              "    .dataframe tbody tr th {\n",
              "        vertical-align: top;\n",
              "    }\n",
              "\n",
              "    .dataframe thead th {\n",
              "        text-align: right;\n",
              "    }\n",
              "</style>\n",
              "<table border=\"1\" class=\"dataframe\">\n",
              "  <thead>\n",
              "    <tr style=\"text-align: right;\">\n",
              "      <th></th>\n",
              "      <th>index</th>\n",
              "      <th>PassengerId</th>\n",
              "      <th>Pclass</th>\n",
              "      <th>Name</th>\n",
              "      <th>Sex</th>\n",
              "      <th>SibSp</th>\n",
              "      <th>Parch</th>\n",
              "      <th>Ticket</th>\n",
              "      <th>Embarked</th>\n",
              "      <th>Age_na</th>\n",
              "      <th>Fare_na</th>\n",
              "    </tr>\n",
              "  </thead>\n",
              "  <tbody>\n",
              "    <tr>\n",
              "      <th>0</th>\n",
              "      <td>1100</td>\n",
              "      <td>1101</td>\n",
              "      <td>3</td>\n",
              "      <td>47</td>\n",
              "      <td>2</td>\n",
              "      <td>0</td>\n",
              "      <td>0</td>\n",
              "      <td>106</td>\n",
              "      <td>3</td>\n",
              "      <td>False</td>\n",
              "      <td>False</td>\n",
              "    </tr>\n",
              "    <tr>\n",
              "      <th>1</th>\n",
              "      <td>1101</td>\n",
              "      <td>1102</td>\n",
              "      <td>3</td>\n",
              "      <td>6</td>\n",
              "      <td>2</td>\n",
              "      <td>0</td>\n",
              "      <td>0</td>\n",
              "      <td>146</td>\n",
              "      <td>3</td>\n",
              "      <td>False</td>\n",
              "      <td>False</td>\n",
              "    </tr>\n",
              "    <tr>\n",
              "      <th>2</th>\n",
              "      <td>1102</td>\n",
              "      <td>1103</td>\n",
              "      <td>3</td>\n",
              "      <td>62</td>\n",
              "      <td>2</td>\n",
              "      <td>0</td>\n",
              "      <td>0</td>\n",
              "      <td>187</td>\n",
              "      <td>3</td>\n",
              "      <td>True</td>\n",
              "      <td>False</td>\n",
              "    </tr>\n",
              "    <tr>\n",
              "      <th>3</th>\n",
              "      <td>1103</td>\n",
              "      <td>1104</td>\n",
              "      <td>2</td>\n",
              "      <td>45</td>\n",
              "      <td>2</td>\n",
              "      <td>0</td>\n",
              "      <td>0</td>\n",
              "      <td>179</td>\n",
              "      <td>3</td>\n",
              "      <td>False</td>\n",
              "      <td>False</td>\n",
              "    </tr>\n",
              "    <tr>\n",
              "      <th>4</th>\n",
              "      <td>1104</td>\n",
              "      <td>1105</td>\n",
              "      <td>2</td>\n",
              "      <td>91</td>\n",
              "      <td>1</td>\n",
              "      <td>1</td>\n",
              "      <td>0</td>\n",
              "      <td>38</td>\n",
              "      <td>3</td>\n",
              "      <td>False</td>\n",
              "      <td>False</td>\n",
              "    </tr>\n",
              "  </tbody>\n",
              "</table>\n",
              "</div>"
            ],
            "text/plain": [
              "   index  PassengerId  Pclass  Name  ...  Ticket  Embarked  Age_na  Fare_na\n",
              "0   1100         1101       3    47  ...     106         3   False    False\n",
              "1   1101         1102       3     6  ...     146         3   False    False\n",
              "2   1102         1103       3    62  ...     187         3    True    False\n",
              "3   1103         1104       2    45  ...     179         3   False    False\n",
              "4   1104         1105       2    91  ...      38         3   False    False\n",
              "\n",
              "[5 rows x 11 columns]"
            ]
          },
          "metadata": {
            "tags": []
          },
          "execution_count": 37
        }
      ]
    },
    {
      "cell_type": "code",
      "metadata": {
        "id": "mIOaX3KDyDgj",
        "outputId": "8ebeff59-bb22-41b0-dbfd-75f382ece98a",
        "colab": {
          "base_uri": "https://localhost:8080/",
          "height": 201
        }
      },
      "source": [
        "X_cat_t.drop(\"index\",inplace = True,axis = 1)\n",
        "X_cat_t.head(2)"
      ],
      "execution_count": null,
      "outputs": [
        {
          "output_type": "stream",
          "text": [
            "/usr/local/lib/python3.6/dist-packages/pandas/core/frame.py:4169: SettingWithCopyWarning: \n",
            "A value is trying to be set on a copy of a slice from a DataFrame\n",
            "\n",
            "See the caveats in the documentation: https://pandas.pydata.org/pandas-docs/stable/user_guide/indexing.html#returning-a-view-versus-a-copy\n",
            "  errors=errors,\n"
          ],
          "name": "stderr"
        },
        {
          "output_type": "execute_result",
          "data": {
            "text/html": [
              "<div>\n",
              "<style scoped>\n",
              "    .dataframe tbody tr th:only-of-type {\n",
              "        vertical-align: middle;\n",
              "    }\n",
              "\n",
              "    .dataframe tbody tr th {\n",
              "        vertical-align: top;\n",
              "    }\n",
              "\n",
              "    .dataframe thead th {\n",
              "        text-align: right;\n",
              "    }\n",
              "</style>\n",
              "<table border=\"1\" class=\"dataframe\">\n",
              "  <thead>\n",
              "    <tr style=\"text-align: right;\">\n",
              "      <th></th>\n",
              "      <th>PassengerId</th>\n",
              "      <th>Pclass</th>\n",
              "      <th>Name</th>\n",
              "      <th>Sex</th>\n",
              "      <th>SibSp</th>\n",
              "      <th>Parch</th>\n",
              "      <th>Ticket</th>\n",
              "      <th>Embarked</th>\n",
              "      <th>Age_na</th>\n",
              "      <th>Fare_na</th>\n",
              "    </tr>\n",
              "  </thead>\n",
              "  <tbody>\n",
              "    <tr>\n",
              "      <th>0</th>\n",
              "      <td>1101</td>\n",
              "      <td>3</td>\n",
              "      <td>47</td>\n",
              "      <td>2</td>\n",
              "      <td>0</td>\n",
              "      <td>0</td>\n",
              "      <td>106</td>\n",
              "      <td>3</td>\n",
              "      <td>False</td>\n",
              "      <td>False</td>\n",
              "    </tr>\n",
              "    <tr>\n",
              "      <th>1</th>\n",
              "      <td>1102</td>\n",
              "      <td>3</td>\n",
              "      <td>6</td>\n",
              "      <td>2</td>\n",
              "      <td>0</td>\n",
              "      <td>0</td>\n",
              "      <td>146</td>\n",
              "      <td>3</td>\n",
              "      <td>False</td>\n",
              "      <td>False</td>\n",
              "    </tr>\n",
              "  </tbody>\n",
              "</table>\n",
              "</div>"
            ],
            "text/plain": [
              "   PassengerId  Pclass  Name  Sex  ...  Ticket  Embarked  Age_na  Fare_na\n",
              "0         1101       3    47    2  ...     106         3   False    False\n",
              "1         1102       3     6    2  ...     146         3   False    False\n",
              "\n",
              "[2 rows x 10 columns]"
            ]
          },
          "metadata": {
            "tags": []
          },
          "execution_count": 38
        }
      ]
    },
    {
      "cell_type": "code",
      "metadata": {
        "id": "kE2hbuNDyDgp",
        "outputId": "80078064-346b-44b4-8773-14033e55492d",
        "colab": {
          "base_uri": "https://localhost:8080/",
          "height": 129
        }
      },
      "source": [
        "#Merge the two sets of columns\n",
        "df_list_I = [X_cat_t,X_con_sct]\n",
        "X_test_I = pd.concat(df_list_I,axis = 1)\n",
        "print(X_test_I.shape)\n",
        "X_test_I.head(2)"
      ],
      "execution_count": null,
      "outputs": [
        {
          "output_type": "stream",
          "text": [
            "(209, 12)\n"
          ],
          "name": "stdout"
        },
        {
          "output_type": "execute_result",
          "data": {
            "text/html": [
              "<div>\n",
              "<style scoped>\n",
              "    .dataframe tbody tr th:only-of-type {\n",
              "        vertical-align: middle;\n",
              "    }\n",
              "\n",
              "    .dataframe tbody tr th {\n",
              "        vertical-align: top;\n",
              "    }\n",
              "\n",
              "    .dataframe thead th {\n",
              "        text-align: right;\n",
              "    }\n",
              "</style>\n",
              "<table border=\"1\" class=\"dataframe\">\n",
              "  <thead>\n",
              "    <tr style=\"text-align: right;\">\n",
              "      <th></th>\n",
              "      <th>PassengerId</th>\n",
              "      <th>Pclass</th>\n",
              "      <th>Name</th>\n",
              "      <th>Sex</th>\n",
              "      <th>SibSp</th>\n",
              "      <th>Parch</th>\n",
              "      <th>Ticket</th>\n",
              "      <th>Embarked</th>\n",
              "      <th>Age_na</th>\n",
              "      <th>Fare_na</th>\n",
              "      <th>Age</th>\n",
              "      <th>Fare</th>\n",
              "    </tr>\n",
              "  </thead>\n",
              "  <tbody>\n",
              "    <tr>\n",
              "      <th>0</th>\n",
              "      <td>1101</td>\n",
              "      <td>3</td>\n",
              "      <td>47</td>\n",
              "      <td>2</td>\n",
              "      <td>0</td>\n",
              "      <td>0</td>\n",
              "      <td>106</td>\n",
              "      <td>3</td>\n",
              "      <td>False</td>\n",
              "      <td>False</td>\n",
              "      <td>-0.343408</td>\n",
              "      <td>-0.489547</td>\n",
              "    </tr>\n",
              "    <tr>\n",
              "      <th>1</th>\n",
              "      <td>1102</td>\n",
              "      <td>3</td>\n",
              "      <td>6</td>\n",
              "      <td>2</td>\n",
              "      <td>0</td>\n",
              "      <td>0</td>\n",
              "      <td>146</td>\n",
              "      <td>3</td>\n",
              "      <td>False</td>\n",
              "      <td>False</td>\n",
              "      <td>0.196729</td>\n",
              "      <td>-0.203944</td>\n",
              "    </tr>\n",
              "  </tbody>\n",
              "</table>\n",
              "</div>"
            ],
            "text/plain": [
              "   PassengerId  Pclass  Name  Sex  ...  Age_na  Fare_na       Age      Fare\n",
              "0         1101       3    47    2  ...   False    False -0.343408 -0.489547\n",
              "1         1102       3     6    2  ...   False    False  0.196729 -0.203944\n",
              "\n",
              "[2 rows x 12 columns]"
            ]
          },
          "metadata": {
            "tags": []
          },
          "execution_count": 39
        }
      ]
    },
    {
      "cell_type": "markdown",
      "metadata": {
        "id": "qhSM3WCdrdZ1"
      },
      "source": [
        "# V. Hyperparameters tuning with Grid Search"
      ]
    },
    {
      "cell_type": "code",
      "metadata": {
        "id": "9tQwJEbdyyi4"
      },
      "source": [
        "# import module\n",
        "from sklearn.model_selection import GridSearchCV\n",
        "from time import time\n",
        "import numpy as np\n",
        "import matplotlib.pyplot as plt"
      ],
      "execution_count": null,
      "outputs": []
    },
    {
      "cell_type": "code",
      "metadata": {
        "id": "4gQnNSfbc_Fw"
      },
      "source": [
        "# Utility function to report best scores and show in plot\n",
        "\n",
        "def report(results, n_top=10):\n",
        "    scores = []\n",
        "    std = []\n",
        "    rank = []\n",
        "    for i in range(1, n_top + 1):\n",
        "        candidates = np.flatnonzero(results['rank_test_score'] == i)\n",
        "        for candidate in candidates:\n",
        "            print(f\"Model with rank: {i},\".format(i) \n",
        "            + \"Mean validation score: {0:.3f} (std: {1:.3f})\"\n",
        "                  .format(results['mean_test_score'][candidate],\n",
        "                          results['std_test_score'][candidate])\n",
        "            + \"Parameters: {0}\".format(results['params'][candidate]))\n",
        "            scores.append(results['mean_test_score'][candidate])\n",
        "            std.append(results['std_test_score'][candidate])\n",
        "            rank.append(i)\n",
        "    fig = plt.figure()\n",
        "    plt.errorbar(rank, scores, yerr=std, label='mean score')\n",
        "    plt.legend(loc='lower right')\n",
        "    plt.show()\n",
        "\n",
        "# create a classifier\n",
        "grid_knn_model = KNeighborsClassifier()\n",
        "\n",
        "# create parameter list\n",
        "# do not use k=1, becuase it means use each row as itself, which is overfitting\n",
        "param_grid = {'n_neighbors': range(2,201),\n",
        "        'weights': ['uniform','distance'],\n",
        "        'metric': ['euclidean','manhattan','chebyshev','minkowski','seuclidean']\n",
        "        }\n",
        "models_path = []\n",
        "score_types = ['accuracy',\n",
        "        'precision','precision_macro','precision_micro',\n",
        "        'recall','recall_macro','recall_micro',\n",
        "        'f1','f1_macro','f1_micro',\n",
        "        'neg_brier_score']\n",
        "grid_result_detail = []"
      ],
      "execution_count": null,
      "outputs": []
    },
    {
      "cell_type": "code",
      "metadata": {
        "id": "dwUkHaiWs00c",
        "outputId": "83b8354f-bff0-4828-f0f6-7b6a8fc9bd4e",
        "colab": {
          "base_uri": "https://localhost:8080/",
          "height": 1000
        }
      },
      "source": [
        "# get all best models according to different scoring methods\n",
        "for score in score_types:\n",
        "  grid_search = GridSearchCV(grid_knn_model,param_grid=param_grid,scoring=score,n_jobs=-1,cv=10)\n",
        "  start = time()\n",
        "  grid_search.fit(X_full,Y)\n",
        "  print(\"GridSearchCV took %.2f seconds for %d candidate parameter settings with %s score.\"\n",
        "        % (time() - start, len(grid_search.cv_results_['params']), score))\n",
        "  report(grid_search.cv_results_)\n",
        "  # save result\n",
        "  grid_result_detail.append(grid_search.cv_results_)\n",
        "\n",
        "  # create model with best parameter\n",
        "  knn_model_fin = KNeighborsClassifier(n_neighbors=grid_search.best_params_['n_neighbors'],\n",
        "                      weights=grid_search.best_params_['weights'],\n",
        "                      metric=grid_search.best_params_['metric'])\n",
        "  # train with data for train and valid\n",
        "  knn_model_fin.fit(X_full,Y)\n",
        "  # store trained model\n",
        "  if not os.path.exists('knn_model'):\n",
        "    !mkdir knn_model\n",
        "  knn_model_fin_path = f'{my_path}/knn_model/knn_{score}.sav'\n",
        "  models_path.append(knn_model_fin_path)\n",
        "  joblib.dump(knn_model_fin,knn_model_fin_path)\n",
        "\n",
        "print(\"Result models:\")\n",
        "print(models_path)"
      ],
      "execution_count": 42,
      "outputs": [
        {
          "output_type": "stream",
          "text": [
            "GridSearchCV took 166.58 seconds for 1990 candidate parameter settings with accuracy score.\n",
            "Model with rank: 1,Mean validation score: 0.659 (std: 0.032)Parameters: {'metric': 'chebyshev', 'n_neighbors': 21, 'weights': 'distance'}\n",
            "Model with rank: 2,Mean validation score: 0.657 (std: 0.025)Parameters: {'metric': 'manhattan', 'n_neighbors': 50, 'weights': 'uniform'}\n",
            "Model with rank: 2,Mean validation score: 0.657 (std: 0.027)Parameters: {'metric': 'chebyshev', 'n_neighbors': 28, 'weights': 'distance'}\n",
            "Model with rank: 4,Mean validation score: 0.657 (std: 0.034)Parameters: {'metric': 'chebyshev', 'n_neighbors': 28, 'weights': 'uniform'}\n",
            "Model with rank: 5,Mean validation score: 0.656 (std: 0.025)Parameters: {'metric': 'chebyshev', 'n_neighbors': 22, 'weights': 'distance'}\n",
            "Model with rank: 5,Mean validation score: 0.656 (std: 0.024)Parameters: {'metric': 'chebyshev', 'n_neighbors': 27, 'weights': 'distance'}\n",
            "Model with rank: 7,Mean validation score: 0.655 (std: 0.031)Parameters: {'metric': 'chebyshev', 'n_neighbors': 27, 'weights': 'uniform'}\n",
            "Model with rank: 8,Mean validation score: 0.655 (std: 0.027)Parameters: {'metric': 'euclidean', 'n_neighbors': 54, 'weights': 'uniform'}\n",
            "Model with rank: 8,Mean validation score: 0.655 (std: 0.025)Parameters: {'metric': 'euclidean', 'n_neighbors': 55, 'weights': 'uniform'}\n",
            "Model with rank: 8,Mean validation score: 0.655 (std: 0.024)Parameters: {'metric': 'chebyshev', 'n_neighbors': 23, 'weights': 'distance'}\n",
            "Model with rank: 8,Mean validation score: 0.655 (std: 0.028)Parameters: {'metric': 'chebyshev', 'n_neighbors': 25, 'weights': 'distance'}\n",
            "Model with rank: 8,Mean validation score: 0.655 (std: 0.027)Parameters: {'metric': 'minkowski', 'n_neighbors': 54, 'weights': 'uniform'}\n",
            "Model with rank: 8,Mean validation score: 0.655 (std: 0.025)Parameters: {'metric': 'minkowski', 'n_neighbors': 55, 'weights': 'uniform'}\n"
          ],
          "name": "stdout"
        },
        {
          "output_type": "display_data",
          "data": {
            "image/png": "[encoded data removed]",
            "text/plain": [
              "<Figure size 432x288 with 1 Axes>"
            ]
          },
          "metadata": {
            "tags": [],
            "needs_background": "light"
          }
        },
        {
          "output_type": "stream",
          "text": [
            "GridSearchCV took 178.34 seconds for 1990 candidate parameter settings with precision score.\n",
            "Model with rank: 1,Mean validation score: 0.681 (std: 0.181)Parameters: {'metric': 'euclidean', 'n_neighbors': 57, 'weights': 'uniform'}\n",
            "Model with rank: 1,Mean validation score: 0.681 (std: 0.181)Parameters: {'metric': 'minkowski', 'n_neighbors': 57, 'weights': 'uniform'}\n",
            "Model with rank: 3,Mean validation score: 0.673 (std: 0.295)Parameters: {'metric': 'chebyshev', 'n_neighbors': 65, 'weights': 'uniform'}\n",
            "Model with rank: 4,Mean validation score: 0.662 (std: 0.140)Parameters: {'metric': 'euclidean', 'n_neighbors': 55, 'weights': 'uniform'}\n",
            "Model with rank: 4,Mean validation score: 0.662 (std: 0.140)Parameters: {'metric': 'minkowski', 'n_neighbors': 55, 'weights': 'uniform'}\n",
            "Model with rank: 6,Mean validation score: 0.653 (std: 0.147)Parameters: {'metric': 'euclidean', 'n_neighbors': 54, 'weights': 'uniform'}\n",
            "Model with rank: 6,Mean validation score: 0.653 (std: 0.147)Parameters: {'metric': 'minkowski', 'n_neighbors': 54, 'weights': 'uniform'}\n",
            "Model with rank: 8,Mean validation score: 0.649 (std: 0.144)Parameters: {'metric': 'euclidean', 'n_neighbors': 30, 'weights': 'uniform'}\n",
            "Model with rank: 8,Mean validation score: 0.649 (std: 0.144)Parameters: {'metric': 'minkowski', 'n_neighbors': 30, 'weights': 'uniform'}\n",
            "Model with rank: 10,Mean validation score: 0.645 (std: 0.139)Parameters: {'metric': 'euclidean', 'n_neighbors': 29, 'weights': 'uniform'}\n",
            "Model with rank: 10,Mean validation score: 0.645 (std: 0.139)Parameters: {'metric': 'minkowski', 'n_neighbors': 29, 'weights': 'uniform'}\n"
          ],
          "name": "stdout"
        },
        {
          "output_type": "display_data",
          "data": {
            "image/png": "[encoded data removed]",
            "text/plain": [
              "<Figure size 432x288 with 1 Axes>"
            ]
          },
          "metadata": {
            "tags": [],
            "needs_background": "light"
          }
        },
        {
          "output_type": "stream",
          "text": [
            "GridSearchCV took 176.47 seconds for 1990 candidate parameter settings with precision_macro score.\n",
            "Model with rank: 1,Mean validation score: 0.671 (std: 0.086)Parameters: {'metric': 'euclidean', 'n_neighbors': 57, 'weights': 'uniform'}\n",
            "Model with rank: 1,Mean validation score: 0.671 (std: 0.086)Parameters: {'metric': 'minkowski', 'n_neighbors': 57, 'weights': 'uniform'}\n",
            "Model with rank: 3,Mean validation score: 0.663 (std: 0.067)Parameters: {'metric': 'euclidean', 'n_neighbors': 55, 'weights': 'uniform'}\n",
            "Model with rank: 3,Mean validation score: 0.663 (std: 0.067)Parameters: {'metric': 'minkowski', 'n_neighbors': 55, 'weights': 'uniform'}\n",
            "Model with rank: 5,Mean validation score: 0.662 (std: 0.150)Parameters: {'metric': 'chebyshev', 'n_neighbors': 65, 'weights': 'uniform'}\n",
            "Model with rank: 6,Mean validation score: 0.661 (std: 0.062)Parameters: {'metric': 'chebyshev', 'n_neighbors': 28, 'weights': 'distance'}\n",
            "Model with rank: 7,Mean validation score: 0.660 (std: 0.066)Parameters: {'metric': 'chebyshev', 'n_neighbors': 21, 'weights': 'distance'}\n",
            "Model with rank: 8,Mean validation score: 0.658 (std: 0.060)Parameters: {'metric': 'chebyshev', 'n_neighbors': 22, 'weights': 'distance'}\n",
            "Model with rank: 9,Mean validation score: 0.658 (std: 0.065)Parameters: {'metric': 'euclidean', 'n_neighbors': 29, 'weights': 'uniform'}\n",
            "Model with rank: 9,Mean validation score: 0.658 (std: 0.065)Parameters: {'metric': 'minkowski', 'n_neighbors': 29, 'weights': 'uniform'}\n"
          ],
          "name": "stdout"
        },
        {
          "output_type": "display_data",
          "data": {
            "image/png": "[encoded data removed]",
            "text/plain": [
              "<Figure size 432x288 with 1 Axes>"
            ]
          },
          "metadata": {
            "tags": [],
            "needs_background": "light"
          }
        },
        {
          "output_type": "stream",
          "text": [
            "GridSearchCV took 170.88 seconds for 1990 candidate parameter settings with precision_micro score.\n",
            "Model with rank: 1,Mean validation score: 0.659 (std: 0.032)Parameters: {'metric': 'chebyshev', 'n_neighbors': 21, 'weights': 'distance'}\n",
            "Model with rank: 2,Mean validation score: 0.657 (std: 0.025)Parameters: {'metric': 'manhattan', 'n_neighbors': 50, 'weights': 'uniform'}\n",
            "Model with rank: 2,Mean validation score: 0.657 (std: 0.027)Parameters: {'metric': 'chebyshev', 'n_neighbors': 28, 'weights': 'distance'}\n",
            "Model with rank: 4,Mean validation score: 0.657 (std: 0.034)Parameters: {'metric': 'chebyshev', 'n_neighbors': 28, 'weights': 'uniform'}\n",
            "Model with rank: 5,Mean validation score: 0.656 (std: 0.025)Parameters: {'metric': 'chebyshev', 'n_neighbors': 22, 'weights': 'distance'}\n",
            "Model with rank: 5,Mean validation score: 0.656 (std: 0.024)Parameters: {'metric': 'chebyshev', 'n_neighbors': 27, 'weights': 'distance'}\n",
            "Model with rank: 7,Mean validation score: 0.655 (std: 0.031)Parameters: {'metric': 'chebyshev', 'n_neighbors': 27, 'weights': 'uniform'}\n",
            "Model with rank: 8,Mean validation score: 0.655 (std: 0.027)Parameters: {'metric': 'euclidean', 'n_neighbors': 54, 'weights': 'uniform'}\n",
            "Model with rank: 8,Mean validation score: 0.655 (std: 0.025)Parameters: {'metric': 'euclidean', 'n_neighbors': 55, 'weights': 'uniform'}\n",
            "Model with rank: 8,Mean validation score: 0.655 (std: 0.024)Parameters: {'metric': 'chebyshev', 'n_neighbors': 23, 'weights': 'distance'}\n",
            "Model with rank: 8,Mean validation score: 0.655 (std: 0.028)Parameters: {'metric': 'chebyshev', 'n_neighbors': 25, 'weights': 'distance'}\n",
            "Model with rank: 8,Mean validation score: 0.655 (std: 0.027)Parameters: {'metric': 'minkowski', 'n_neighbors': 54, 'weights': 'uniform'}\n",
            "Model with rank: 8,Mean validation score: 0.655 (std: 0.025)Parameters: {'metric': 'minkowski', 'n_neighbors': 55, 'weights': 'uniform'}\n"
          ],
          "name": "stdout"
        },
        {
          "output_type": "display_data",
          "data": {
            "image/png": "[encoded data removed]",
            "text/plain": [
              "<Figure size 432x288 with 1 Axes>"
            ]
          },
          "metadata": {
            "tags": [],
            "needs_background": "light"
          }
        },
        {
          "output_type": "stream",
          "text": [
            "GridSearchCV took 173.15 seconds for 1990 candidate parameter settings with recall score.\n",
            "Model with rank: 1,Mean validation score: 0.458 (std: 0.136)Parameters: {'metric': 'manhattan', 'n_neighbors': 2, 'weights': 'distance'}\n",
            "Model with rank: 2,Mean validation score: 0.457 (std: 0.138)Parameters: {'metric': 'euclidean', 'n_neighbors': 2, 'weights': 'distance'}\n",
            "Model with rank: 2,Mean validation score: 0.457 (std: 0.138)Parameters: {'metric': 'minkowski', 'n_neighbors': 2, 'weights': 'distance'}\n",
            "Model with rank: 4,Mean validation score: 0.457 (std: 0.170)Parameters: {'metric': 'chebyshev', 'n_neighbors': 3, 'weights': 'distance'}\n",
            "Model with rank: 5,Mean validation score: 0.445 (std: 0.167)Parameters: {'metric': 'chebyshev', 'n_neighbors': 3, 'weights': 'uniform'}\n",
            "Model with rank: 6,Mean validation score: 0.443 (std: 0.148)Parameters: {'metric': 'manhattan', 'n_neighbors': 4, 'weights': 'distance'}\n",
            "Model with rank: 7,Mean validation score: 0.441 (std: 0.162)Parameters: {'metric': 'manhattan', 'n_neighbors': 3, 'weights': 'distance'}\n",
            "Model with rank: 8,Mean validation score: 0.440 (std: 0.153)Parameters: {'metric': 'euclidean', 'n_neighbors': 4, 'weights': 'distance'}\n",
            "Model with rank: 8,Mean validation score: 0.440 (std: 0.153)Parameters: {'metric': 'minkowski', 'n_neighbors': 4, 'weights': 'distance'}\n",
            "Model with rank: 10,Mean validation score: 0.438 (std: 0.162)Parameters: {'metric': 'chebyshev', 'n_neighbors': 4, 'weights': 'distance'}\n"
          ],
          "name": "stdout"
        },
        {
          "output_type": "display_data",
          "data": {
            "image/png": "[encoded data removed]",
            "text/plain": [
              "<Figure size 432x288 with 1 Axes>"
            ]
          },
          "metadata": {
            "tags": [],
            "needs_background": "light"
          }
        },
        {
          "output_type": "stream",
          "text": [
            "GridSearchCV took 170.71 seconds for 1990 candidate parameter settings with recall_macro score.\n",
            "Model with rank: 1,Mean validation score: 0.598 (std: 0.052)Parameters: {'metric': 'chebyshev', 'n_neighbors': 21, 'weights': 'distance'}\n",
            "Model with rank: 2,Mean validation score: 0.597 (std: 0.052)Parameters: {'metric': 'chebyshev', 'n_neighbors': 11, 'weights': 'uniform'}\n",
            "Model with rank: 3,Mean validation score: 0.593 (std: 0.045)Parameters: {'metric': 'chebyshev', 'n_neighbors': 13, 'weights': 'uniform'}\n",
            "Model with rank: 4,Mean validation score: 0.593 (std: 0.045)Parameters: {'metric': 'chebyshev', 'n_neighbors': 22, 'weights': 'distance'}\n",
            "Model with rank: 5,Mean validation score: 0.591 (std: 0.042)Parameters: {'metric': 'chebyshev', 'n_neighbors': 12, 'weights': 'distance'}\n",
            "Model with rank: 6,Mean validation score: 0.591 (std: 0.046)Parameters: {'metric': 'chebyshev', 'n_neighbors': 11, 'weights': 'distance'}\n",
            "Model with rank: 7,Mean validation score: 0.590 (std: 0.052)Parameters: {'metric': 'euclidean', 'n_neighbors': 24, 'weights': 'distance'}\n",
            "Model with rank: 7,Mean validation score: 0.590 (std: 0.052)Parameters: {'metric': 'minkowski', 'n_neighbors': 24, 'weights': 'distance'}\n",
            "Model with rank: 9,Mean validation score: 0.590 (std: 0.046)Parameters: {'metric': 'euclidean', 'n_neighbors': 18, 'weights': 'distance'}\n",
            "Model with rank: 9,Mean validation score: 0.590 (std: 0.046)Parameters: {'metric': 'minkowski', 'n_neighbors': 18, 'weights': 'distance'}\n"
          ],
          "name": "stdout"
        },
        {
          "output_type": "display_data",
          "data": {
            "image/png": "[encoded data removed]",
            "text/plain": [
              "<Figure size 432x288 with 1 Axes>"
            ]
          },
          "metadata": {
            "tags": [],
            "needs_background": "light"
          }
        },
        {
          "output_type": "stream",
          "text": [
            "GridSearchCV took 169.73 seconds for 1990 candidate parameter settings with recall_micro score.\n",
            "Model with rank: 1,Mean validation score: 0.659 (std: 0.032)Parameters: {'metric': 'chebyshev', 'n_neighbors': 21, 'weights': 'distance'}\n",
            "Model with rank: 2,Mean validation score: 0.657 (std: 0.025)Parameters: {'metric': 'manhattan', 'n_neighbors': 50, 'weights': 'uniform'}\n",
            "Model with rank: 2,Mean validation score: 0.657 (std: 0.027)Parameters: {'metric': 'chebyshev', 'n_neighbors': 28, 'weights': 'distance'}\n",
            "Model with rank: 4,Mean validation score: 0.657 (std: 0.034)Parameters: {'metric': 'chebyshev', 'n_neighbors': 28, 'weights': 'uniform'}\n",
            "Model with rank: 5,Mean validation score: 0.656 (std: 0.025)Parameters: {'metric': 'chebyshev', 'n_neighbors': 22, 'weights': 'distance'}\n",
            "Model with rank: 5,Mean validation score: 0.656 (std: 0.024)Parameters: {'metric': 'chebyshev', 'n_neighbors': 27, 'weights': 'distance'}\n",
            "Model with rank: 7,Mean validation score: 0.655 (std: 0.031)Parameters: {'metric': 'chebyshev', 'n_neighbors': 27, 'weights': 'uniform'}\n",
            "Model with rank: 8,Mean validation score: 0.655 (std: 0.027)Parameters: {'metric': 'euclidean', 'n_neighbors': 54, 'weights': 'uniform'}\n",
            "Model with rank: 8,Mean validation score: 0.655 (std: 0.025)Parameters: {'metric': 'euclidean', 'n_neighbors': 55, 'weights': 'uniform'}\n",
            "Model with rank: 8,Mean validation score: 0.655 (std: 0.024)Parameters: {'metric': 'chebyshev', 'n_neighbors': 23, 'weights': 'distance'}\n",
            "Model with rank: 8,Mean validation score: 0.655 (std: 0.028)Parameters: {'metric': 'chebyshev', 'n_neighbors': 25, 'weights': 'distance'}\n",
            "Model with rank: 8,Mean validation score: 0.655 (std: 0.027)Parameters: {'metric': 'minkowski', 'n_neighbors': 54, 'weights': 'uniform'}\n",
            "Model with rank: 8,Mean validation score: 0.655 (std: 0.025)Parameters: {'metric': 'minkowski', 'n_neighbors': 55, 'weights': 'uniform'}\n"
          ],
          "name": "stdout"
        },
        {
          "output_type": "display_data",
          "data": {
            "image/png": "[encoded data removed]",
            "text/plain": [
              "<Figure size 432x288 with 1 Axes>"
            ]
          },
          "metadata": {
            "tags": [],
            "needs_background": "light"
          }
        },
        {
          "output_type": "stream",
          "text": [
            "GridSearchCV took 168.59 seconds for 1990 candidate parameter settings with f1 score.\n",
            "Model with rank: 1,Mean validation score: 0.442 (std: 0.080)Parameters: {'metric': 'manhattan', 'n_neighbors': 2, 'weights': 'distance'}\n",
            "Model with rank: 2,Mean validation score: 0.439 (std: 0.099)Parameters: {'metric': 'manhattan', 'n_neighbors': 4, 'weights': 'distance'}\n",
            "Model with rank: 3,Mean validation score: 0.439 (std: 0.079)Parameters: {'metric': 'euclidean', 'n_neighbors': 2, 'weights': 'distance'}\n",
            "Model with rank: 3,Mean validation score: 0.439 (std: 0.079)Parameters: {'metric': 'minkowski', 'n_neighbors': 2, 'weights': 'distance'}\n",
            "Model with rank: 5,Mean validation score: 0.437 (std: 0.099)Parameters: {'metric': 'chebyshev', 'n_neighbors': 3, 'weights': 'distance'}\n",
            "Model with rank: 6,Mean validation score: 0.436 (std: 0.114)Parameters: {'metric': 'euclidean', 'n_neighbors': 6, 'weights': 'distance'}\n",
            "Model with rank: 6,Mean validation score: 0.436 (std: 0.114)Parameters: {'metric': 'minkowski', 'n_neighbors': 6, 'weights': 'distance'}\n",
            "Model with rank: 8,Mean validation score: 0.433 (std: 0.118)Parameters: {'metric': 'euclidean', 'n_neighbors': 8, 'weights': 'distance'}\n",
            "Model with rank: 8,Mean validation score: 0.433 (std: 0.118)Parameters: {'metric': 'minkowski', 'n_neighbors': 8, 'weights': 'distance'}\n",
            "Model with rank: 10,Mean validation score: 0.430 (std: 0.094)Parameters: {'metric': 'chebyshev', 'n_neighbors': 3, 'weights': 'uniform'}\n"
          ],
          "name": "stdout"
        },
        {
          "output_type": "display_data",
          "data": {
            "image/png": "[encoded data removed]",
            "text/plain": [
              "<Figure size 432x288 with 1 Axes>"
            ]
          },
          "metadata": {
            "tags": [],
            "needs_background": "light"
          }
        },
        {
          "output_type": "stream",
          "text": [
            "GridSearchCV took 170.90 seconds for 1990 candidate parameter settings with f1_macro score.\n",
            "Model with rank: 1,Mean validation score: 0.585 (std: 0.070)Parameters: {'metric': 'chebyshev', 'n_neighbors': 11, 'weights': 'uniform'}\n",
            "Model with rank: 2,Mean validation score: 0.579 (std: 0.080)Parameters: {'metric': 'chebyshev', 'n_neighbors': 21, 'weights': 'distance'}\n",
            "Model with rank: 3,Mean validation score: 0.578 (std: 0.067)Parameters: {'metric': 'chebyshev', 'n_neighbors': 13, 'weights': 'uniform'}\n",
            "Model with rank: 4,Mean validation score: 0.577 (std: 0.065)Parameters: {'metric': 'chebyshev', 'n_neighbors': 11, 'weights': 'distance'}\n",
            "Model with rank: 5,Mean validation score: 0.577 (std: 0.064)Parameters: {'metric': 'chebyshev', 'n_neighbors': 12, 'weights': 'distance'}\n",
            "Model with rank: 6,Mean validation score: 0.574 (std: 0.061)Parameters: {'metric': 'chebyshev', 'n_neighbors': 15, 'weights': 'uniform'}\n",
            "Model with rank: 7,Mean validation score: 0.573 (std: 0.063)Parameters: {'metric': 'chebyshev', 'n_neighbors': 16, 'weights': 'distance'}\n",
            "Model with rank: 8,Mean validation score: 0.573 (std: 0.073)Parameters: {'metric': 'chebyshev', 'n_neighbors': 22, 'weights': 'distance'}\n",
            "Model with rank: 9,Mean validation score: 0.572 (std: 0.052)Parameters: {'metric': 'euclidean', 'n_neighbors': 8, 'weights': 'distance'}\n",
            "Model with rank: 9,Mean validation score: 0.572 (std: 0.052)Parameters: {'metric': 'minkowski', 'n_neighbors': 8, 'weights': 'distance'}\n"
          ],
          "name": "stdout"
        },
        {
          "output_type": "display_data",
          "data": {
            "image/png": "[encoded data removed]",
            "text/plain": [
              "<Figure size 432x288 with 1 Axes>"
            ]
          },
          "metadata": {
            "tags": [],
            "needs_background": "light"
          }
        },
        {
          "output_type": "stream",
          "text": [
            "GridSearchCV took 170.14 seconds for 1990 candidate parameter settings with f1_micro score.\n",
            "Model with rank: 1,Mean validation score: 0.659 (std: 0.032)Parameters: {'metric': 'chebyshev', 'n_neighbors': 21, 'weights': 'distance'}\n",
            "Model with rank: 2,Mean validation score: 0.657 (std: 0.025)Parameters: {'metric': 'manhattan', 'n_neighbors': 50, 'weights': 'uniform'}\n",
            "Model with rank: 2,Mean validation score: 0.657 (std: 0.027)Parameters: {'metric': 'chebyshev', 'n_neighbors': 28, 'weights': 'distance'}\n",
            "Model with rank: 4,Mean validation score: 0.657 (std: 0.034)Parameters: {'metric': 'chebyshev', 'n_neighbors': 28, 'weights': 'uniform'}\n",
            "Model with rank: 5,Mean validation score: 0.656 (std: 0.025)Parameters: {'metric': 'chebyshev', 'n_neighbors': 22, 'weights': 'distance'}\n",
            "Model with rank: 5,Mean validation score: 0.656 (std: 0.024)Parameters: {'metric': 'chebyshev', 'n_neighbors': 27, 'weights': 'distance'}\n",
            "Model with rank: 7,Mean validation score: 0.655 (std: 0.031)Parameters: {'metric': 'chebyshev', 'n_neighbors': 27, 'weights': 'uniform'}\n",
            "Model with rank: 8,Mean validation score: 0.655 (std: 0.027)Parameters: {'metric': 'euclidean', 'n_neighbors': 54, 'weights': 'uniform'}\n",
            "Model with rank: 8,Mean validation score: 0.655 (std: 0.025)Parameters: {'metric': 'euclidean', 'n_neighbors': 55, 'weights': 'uniform'}\n",
            "Model with rank: 8,Mean validation score: 0.655 (std: 0.024)Parameters: {'metric': 'chebyshev', 'n_neighbors': 23, 'weights': 'distance'}\n",
            "Model with rank: 8,Mean validation score: 0.655 (std: 0.028)Parameters: {'metric': 'chebyshev', 'n_neighbors': 25, 'weights': 'distance'}\n",
            "Model with rank: 8,Mean validation score: 0.655 (std: 0.027)Parameters: {'metric': 'minkowski', 'n_neighbors': 54, 'weights': 'uniform'}\n",
            "Model with rank: 8,Mean validation score: 0.655 (std: 0.025)Parameters: {'metric': 'minkowski', 'n_neighbors': 55, 'weights': 'uniform'}\n"
          ],
          "name": "stdout"
        },
        {
          "output_type": "display_data",
          "data": {
            "image/png": "[encoded data removed]",
            "text/plain": [
              "<Figure size 432x288 with 1 Axes>"
            ]
          },
          "metadata": {
            "tags": [],
            "needs_background": "light"
          }
        },
        {
          "output_type": "stream",
          "text": [
            "GridSearchCV took 145.15 seconds for 1990 candidate parameter settings with neg_brier_score score.\n",
            "Model with rank: 1,Mean validation score: -0.222 (std: 0.012)Parameters: {'metric': 'chebyshev', 'n_neighbors': 38, 'weights': 'distance'}\n",
            "Model with rank: 2,Mean validation score: -0.222 (std: 0.016)Parameters: {'metric': 'chebyshev', 'n_neighbors': 18, 'weights': 'uniform'}\n",
            "Model with rank: 3,Mean validation score: -0.222 (std: 0.012)Parameters: {'metric': 'chebyshev', 'n_neighbors': 38, 'weights': 'uniform'}\n",
            "Model with rank: 4,Mean validation score: -0.222 (std: 0.012)Parameters: {'metric': 'chebyshev', 'n_neighbors': 31, 'weights': 'uniform'}\n",
            "Model with rank: 5,Mean validation score: -0.222 (std: 0.012)Parameters: {'metric': 'chebyshev', 'n_neighbors': 39, 'weights': 'distance'}\n",
            "Model with rank: 6,Mean validation score: -0.222 (std: 0.014)Parameters: {'metric': 'euclidean', 'n_neighbors': 48, 'weights': 'distance'}\n",
            "Model with rank: 6,Mean validation score: -0.222 (std: 0.014)Parameters: {'metric': 'minkowski', 'n_neighbors': 48, 'weights': 'distance'}\n",
            "Model with rank: 8,Mean validation score: -0.222 (std: 0.012)Parameters: {'metric': 'chebyshev', 'n_neighbors': 41, 'weights': 'distance'}\n",
            "Model with rank: 9,Mean validation score: -0.222 (std: 0.012)Parameters: {'metric': 'chebyshev', 'n_neighbors': 40, 'weights': 'distance'}\n",
            "Model with rank: 10,Mean validation score: -0.222 (std: 0.014)Parameters: {'metric': 'euclidean', 'n_neighbors': 48, 'weights': 'uniform'}\n",
            "Model with rank: 10,Mean validation score: -0.222 (std: 0.014)Parameters: {'metric': 'minkowski', 'n_neighbors': 48, 'weights': 'uniform'}\n"
          ],
          "name": "stdout"
        },
        {
          "output_type": "display_data",
          "data": {
            "image/png": "[encoded data removed]",
            "text/plain": [
              "<Figure size 432x288 with 1 Axes>"
            ]
          },
          "metadata": {
            "tags": [],
            "needs_background": "light"
          }
        },
        {
          "output_type": "stream",
          "text": [
            "Result models:\n",
            "['/content/knn_model/knn_accuracy.sav', '/content/knn_model/knn_precision.sav', '/content/knn_model/knn_precision_macro.sav', '/content/knn_model/knn_precision_micro.sav', '/content/knn_model/knn_recall.sav', '/content/knn_model/knn_recall_macro.sav', '/content/knn_model/knn_recall_micro.sav', '/content/knn_model/knn_f1.sav', '/content/knn_model/knn_f1_macro.sav', '/content/knn_model/knn_f1_micro.sav', '/content/knn_model/knn_neg_brier_score.sav']\n"
          ],
          "name": "stdout"
        }
      ]
    },
    {
      "cell_type": "code",
      "metadata": {
        "id": "4_xvYCwKsMn5",
        "outputId": "a170c196-9072-4708-9e33-2f00b1f0a55d",
        "colab": {
          "base_uri": "https://localhost:8080/",
          "height": 34
        }
      },
      "source": [
        "# save grid search detailed info\n",
        "if not os.path.exists('grid_result_detail'):\n",
        "      !mkdir grid_result_detail\n",
        "grid_result_detail_path = f'{my_path}/grid_result_detail/grid_result_detail.data'\n",
        "joblib.dump(grid_result_detail,grid_result_detail_path)"
      ],
      "execution_count": 44,
      "outputs": [
        {
          "output_type": "execute_result",
          "data": {
            "text/plain": [
              "['/content/grid_result_detail/grid_result_detail.data']"
            ]
          },
          "metadata": {
            "tags": []
          },
          "execution_count": 44
        }
      ]
    },
    {
      "cell_type": "markdown",
      "metadata": {
        "id": "wxaDMnLyEZ0x"
      },
      "source": [
        "# VI. Evaluating test set accuracy with the trained model"
      ]
    },
    {
      "cell_type": "code",
      "metadata": {
        "id": "CZ7eINSKYsmN",
        "outputId": "aa4f98bc-7797-4a1f-9161-e947fe01ff31",
        "colab": {
          "base_uri": "https://localhost:8080/",
          "height": 816
        }
      },
      "source": [
        "# test all best models according to different scoring methods\n",
        "score_acc = []\n",
        "for method,path in zip(score_types,models_path):\n",
        "  kNN_loaded = joblib.load(path)\n",
        "  Y_test_pred = kNN_loaded.predict(X_test_I)\n",
        "  print(f\"Testing best model scoring by {method}\")\n",
        "  print(\"Parameters: \",kNN_loaded.get_params())\n",
        "  score_acc.append(accuracy_score(Y_t,Y_test_pred))\n",
        "  print(accuracy_score(Y_t,Y_test_pred),\n",
        "        matthews_corrcoef(Y_t,Y_test_pred),f1_score(Y_t,Y_test_pred))\n",
        "  "
      ],
      "execution_count": 45,
      "outputs": [
        {
          "output_type": "stream",
          "text": [
            "Testing best model scoring by accuracy\n",
            "Parameters:  {'algorithm': 'auto', 'leaf_size': 30, 'metric': 'chebyshev', 'metric_params': None, 'n_jobs': None, 'n_neighbors': 21, 'p': 2, 'weights': 'distance'}\n",
            "0.5645933014354066 0.0 0.0\n",
            "Testing best model scoring by precision\n",
            "Parameters:  {'algorithm': 'auto', 'leaf_size': 30, 'metric': 'euclidean', 'metric_params': None, 'n_jobs': None, 'n_neighbors': 57, 'p': 2, 'weights': 'uniform'}\n",
            "0.5502392344497608 -0.05620276865888246 0.040816326530612256\n",
            "Testing best model scoring by precision_macro\n",
            "Parameters:  {'algorithm': 'auto', 'leaf_size': 30, 'metric': 'euclidean', 'metric_params': None, 'n_jobs': None, 'n_neighbors': 57, 'p': 2, 'weights': 'uniform'}\n",
            "0.5502392344497608 -0.05620276865888246 0.040816326530612256\n",
            "Testing best model scoring by precision_micro\n",
            "Parameters:  {'algorithm': 'auto', 'leaf_size': 30, 'metric': 'chebyshev', 'metric_params': None, 'n_jobs': None, 'n_neighbors': 21, 'p': 2, 'weights': 'distance'}\n",
            "0.5645933014354066 0.0 0.0\n",
            "Testing best model scoring by recall\n",
            "Parameters:  {'algorithm': 'auto', 'leaf_size': 30, 'metric': 'manhattan', 'metric_params': None, 'n_jobs': None, 'n_neighbors': 2, 'p': 2, 'weights': 'distance'}\n",
            "0.5789473684210527 0.12224161765763172 0.44999999999999996\n",
            "Testing best model scoring by recall_macro\n",
            "Parameters:  {'algorithm': 'auto', 'leaf_size': 30, 'metric': 'chebyshev', 'metric_params': None, 'n_jobs': None, 'n_neighbors': 21, 'p': 2, 'weights': 'distance'}\n",
            "0.5645933014354066 0.0 0.0\n",
            "Testing best model scoring by recall_micro\n",
            "Parameters:  {'algorithm': 'auto', 'leaf_size': 30, 'metric': 'chebyshev', 'metric_params': None, 'n_jobs': None, 'n_neighbors': 21, 'p': 2, 'weights': 'distance'}\n",
            "0.5645933014354066 0.0 0.0\n",
            "Testing best model scoring by f1\n",
            "Parameters:  {'algorithm': 'auto', 'leaf_size': 30, 'metric': 'manhattan', 'metric_params': None, 'n_jobs': None, 'n_neighbors': 2, 'p': 2, 'weights': 'distance'}\n",
            "0.5789473684210527 0.12224161765763172 0.44999999999999996\n",
            "Testing best model scoring by f1_macro\n",
            "Parameters:  {'algorithm': 'auto', 'leaf_size': 30, 'metric': 'chebyshev', 'metric_params': None, 'n_jobs': None, 'n_neighbors': 11, 'p': 2, 'weights': 'uniform'}\n",
            "0.5645933014354066 0.0 0.0\n",
            "Testing best model scoring by f1_micro\n",
            "Parameters:  {'algorithm': 'auto', 'leaf_size': 30, 'metric': 'chebyshev', 'metric_params': None, 'n_jobs': None, 'n_neighbors': 21, 'p': 2, 'weights': 'distance'}\n",
            "0.5645933014354066 0.0 0.0\n",
            "Testing best model scoring by neg_brier_score\n",
            "Parameters:  {'algorithm': 'auto', 'leaf_size': 30, 'metric': 'chebyshev', 'metric_params': None, 'n_jobs': None, 'n_neighbors': 38, 'p': 2, 'weights': 'distance'}\n",
            "0.5645933014354066 0.0 0.0\n"
          ],
          "name": "stdout"
        },
        {
          "output_type": "stream",
          "text": [
            "/usr/local/lib/python3.6/dist-packages/sklearn/metrics/_classification.py:900: RuntimeWarning: invalid value encountered in double_scalars\n",
            "  mcc = cov_ytyp / np.sqrt(cov_ytyt * cov_ypyp)\n",
            "/usr/local/lib/python3.6/dist-packages/sklearn/metrics/_classification.py:900: RuntimeWarning: invalid value encountered in double_scalars\n",
            "  mcc = cov_ytyp / np.sqrt(cov_ytyt * cov_ypyp)\n",
            "/usr/local/lib/python3.6/dist-packages/sklearn/metrics/_classification.py:900: RuntimeWarning: invalid value encountered in double_scalars\n",
            "  mcc = cov_ytyp / np.sqrt(cov_ytyt * cov_ypyp)\n",
            "/usr/local/lib/python3.6/dist-packages/sklearn/metrics/_classification.py:900: RuntimeWarning: invalid value encountered in double_scalars\n",
            "  mcc = cov_ytyp / np.sqrt(cov_ytyt * cov_ypyp)\n",
            "/usr/local/lib/python3.6/dist-packages/sklearn/metrics/_classification.py:900: RuntimeWarning: invalid value encountered in double_scalars\n",
            "  mcc = cov_ytyp / np.sqrt(cov_ytyt * cov_ypyp)\n",
            "/usr/local/lib/python3.6/dist-packages/sklearn/metrics/_classification.py:900: RuntimeWarning: invalid value encountered in double_scalars\n",
            "  mcc = cov_ytyp / np.sqrt(cov_ytyt * cov_ypyp)\n",
            "/usr/local/lib/python3.6/dist-packages/sklearn/metrics/_classification.py:900: RuntimeWarning: invalid value encountered in double_scalars\n",
            "  mcc = cov_ytyp / np.sqrt(cov_ytyt * cov_ypyp)\n"
          ],
          "name": "stderr"
        }
      ]
    },
    {
      "cell_type": "code",
      "metadata": {
        "id": "qripEh1m0xze",
        "outputId": "a754fc9e-5f71-4cac-a3b7-e3f3817fe874",
        "colab": {
          "base_uri": "https://localhost:8080/",
          "height": 282
        }
      },
      "source": [
        "# show plot of different accuracy by scoring methods\n",
        "labels = score_types\n",
        "values = score_acc\n",
        "width = 0.35  # the width of the bars: can also be len(x) sequence\n",
        "\n",
        "fig, ax = plt.subplots()\n",
        "\n",
        "ax.bar(labels, values, width, label='Accuracy')\n",
        "\n",
        "ax.set_ylabel('Accuracy')\n",
        "ax.set_title('Accuracy by scoring methods')\n",
        "fig.set_figwidth(18)\n",
        "ax.legend()\n",
        "\n",
        "plt.show()"
      ],
      "execution_count": 46,
      "outputs": [
        {
          "output_type": "display_data",
          "data": {
            "image/png": "[encoded data removed]",
            "text/plain": [
              "<Figure size 1296x288 with 1 Axes>"
            ]
          },
          "metadata": {
            "tags": [],
            "needs_background": "light"
          }
        }
      ]
    },
    {
      "cell_type": "markdown",
      "metadata": {
        "id": "CwuxY1gOV7p4"
      },
      "source": [
        "## Summary of trainning\n",
        "\n",
        "- The best training model is model with following paramenters, of which accuracy is about 57.8947% a liitle bit bigger than the model with k=14 which is selected by simply using loop for tunning\n",
        "\n",
        "```python\n",
        "{\n",
        "  'algorithm': 'auto',\n",
        "  'leaf_size': 30,\n",
        "  'metric': 'manhattan',\n",
        "  'metric_params': None,\n",
        "  'n_jobs': None,\n",
        "  'n_neighbors': 2,\n",
        "  'p': 2,\n",
        "  'weights': 'distance'\n",
        "}\n",
        "```\n",
        "\n",
        "- In short, after detailed grid search, no result trainning model represent good prediction on Test set.\n",
        "\n",
        "- The K_NN algorithm performs bad on this problem.\n",
        "\n"
      ]
    },
    {
      "cell_type": "code",
      "metadata": {
        "id": "a_xptedMyDhQ",
        "outputId": "6debaf88-06f7-44e3-bfd6-5a4139f80ab1",
        "colab": {
          "base_uri": "https://localhost:8080/",
          "height": 51
        }
      },
      "source": [
        "'''Write out full train_valid and test dataframes for later use\n",
        "in module III'''\n",
        "X_full[\"Survived\"] = Y\n",
        "X_test_I[\"Survived\"] = Y_t\n",
        "\n",
        "print(X_full.shape)\n",
        "print(X_test_I.shape)"
      ],
      "execution_count": 48,
      "outputs": [
        {
          "output_type": "stream",
          "text": [
            "(1100, 13)\n",
            "(209, 13)\n"
          ],
          "name": "stdout"
        }
      ]
    },
    {
      "cell_type": "markdown",
      "metadata": {
        "id": "fRwZ1_Cg1h3d"
      },
      "source": [
        "# VII. The disadvantages of k-NN algorithm"
      ]
    },
    {
      "cell_type": "markdown",
      "metadata": {
        "id": "FSJc-vvC1v5m"
      },
      "source": [
        "\n",
        "From above traing and testing results, I could sum up following disadvantages of KNN algorithm:\n",
        "\n",
        "1.   To K-NN, it's difficult to treat different meaning value properly. As the input data contains different kind of values such as the data of Titanic: some of data is real number and others are boolean or integer, when training we all treat them as real-number by choosing those metics specially for real number, so it might cause the model treat the data in wrong way and lose valuable  info.\n",
        "\n",
        "  In another word, we might create our custom metric to deal with data, but there seems no reliable reference or ideas for design our custom metric.\n",
        "\n",
        "2.   After looking carefully to the trained model, all ways of training cannot givs us great prediction. So K-NN seems not suit to this problem.\n",
        "\n",
        "3.   Sometimes, K-NN is easy to be overfitting. According to some of trained model, the prediction are simply all 0, which meaning that the test case cantains more  not survived people, which is not we exactly want.\n",
        "\n"
      ]
    }
  ]
}